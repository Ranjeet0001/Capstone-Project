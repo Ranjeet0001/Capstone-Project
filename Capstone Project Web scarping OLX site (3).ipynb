{
 "cells": [
  {
   "cell_type": "code",
   "execution_count": 1,
   "id": "feb7ea47",
   "metadata": {},
   "outputs": [],
   "source": [
    "import selenium\n",
    "import pandas as pd\n",
    "import time\n",
    "from bs4 import BeautifulSoup\n",
    "from selenium import webdriver\n",
    "from selenium.common.exceptions import StaleElementReferenceException, NoSuchElementException\n",
    "import requests\n",
    "from selenium.webdriver.support.ui import WebDriverWait\n",
    "from selenium.webdriver.support import expected_conditions as EC\n",
    "from selenium.webdriver.common.by import By\n",
    "from selenium import webdriver\n",
    "from selenium.webdriver.common.by import By\n",
    "from selenium.webdriver.support.ui import WebDriverWait\n",
    "from selenium.webdriver.support import expected_conditions as EC\n",
    "from selenium.common.exceptions import StaleElementReferenceException\n",
    "import time"
   ]
  },
  {
   "cell_type": "code",
   "execution_count": 2,
   "id": "ffdc3cbf",
   "metadata": {},
   "outputs": [],
   "source": [
    "driver = webdriver.Chrome()"
   ]
  },
  {
   "cell_type": "code",
   "execution_count": 3,
   "id": "bd1770dc",
   "metadata": {},
   "outputs": [],
   "source": [
    "driver.get(\"https://www.olx.in/\")"
   ]
  },
  {
   "cell_type": "code",
   "execution_count": 4,
   "id": "58d4ee0e",
   "metadata": {},
   "outputs": [],
   "source": [
    "click_rent_option = driver.find_element(By.XPATH,'/html/body/div/div/div[1]/div/div/div[1]/div[2]/div[7]/a/span')\n",
    "click_rent_option.click()"
   ]
  },
  {
   "cell_type": "code",
   "execution_count": 5,
   "id": "7dd200db",
   "metadata": {},
   "outputs": [],
   "source": [
    "city_links = []\n",
    "url_elements = driver.find_elements(By.XPATH, '//a[@class=\"_1HnJ6 _2OYDZ _2L7t8\"]')\n",
    "\n",
    "for element in url_elements:\n",
    "    city_links.append(element.get_attribute('href'))"
   ]
  },
  {
   "cell_type": "code",
   "execution_count": 6,
   "id": "df3a8ba3",
   "metadata": {},
   "outputs": [
    {
     "data": {
      "text/plain": [
       "20"
      ]
     },
     "execution_count": 6,
     "metadata": {},
     "output_type": "execute_result"
    }
   ],
   "source": [
    "len(city_links)"
   ]
  },
  {
   "cell_type": "code",
   "execution_count": 7,
   "id": "52d1dd38",
   "metadata": {},
   "outputs": [
    {
     "data": {
      "text/plain": [
       "['https://www.olx.in/kerala_g2001160/for-rent-houses-apartments_c1723',\n",
       " 'https://www.olx.in/maharashtra_g2001163/for-rent-houses-apartments_c1723',\n",
       " 'https://www.olx.in/uttar-pradesh_g2001176/for-rent-houses-apartments_c1723',\n",
       " 'https://www.olx.in/tamil-nadu_g2001173/for-rent-houses-apartments_c1723',\n",
       " 'https://www.olx.in/punjab_g2001170/for-rent-houses-apartments_c1723',\n",
       " 'https://www.olx.in/gujarat_g2001154/for-rent-houses-apartments_c1723',\n",
       " 'https://www.olx.in/karnataka_g2001159/for-rent-houses-apartments_c1723',\n",
       " 'https://www.olx.in/madhya-pradesh_g2001162/for-rent-houses-apartments_c1723',\n",
       " 'https://www.olx.in/delhi_g2001152/for-rent-houses-apartments_c1723',\n",
       " 'https://www.olx.in/rajasthan_g2001171/for-rent-houses-apartments_c1723',\n",
       " 'https://www.olx.in/haryana_g2001155/for-rent-houses-apartments_c1723',\n",
       " 'https://www.olx.in/west-bengal_g2001177/for-rent-houses-apartments_c1723',\n",
       " 'https://www.olx.in/odisha_g2001168/for-rent-houses-apartments_c1723',\n",
       " 'https://www.olx.in/andhra-pradesh_g2001145/for-rent-houses-apartments_c1723',\n",
       " 'https://www.olx.in/telangana_g2007599/for-rent-houses-apartments_c1723',\n",
       " 'https://www.olx.in/assam_g2001147/for-rent-houses-apartments_c1723',\n",
       " 'https://www.olx.in/bihar_g2001148/for-rent-houses-apartments_c1723',\n",
       " 'https://www.olx.in/uttaranchal_g2001175/for-rent-houses-apartments_c1723',\n",
       " 'https://www.olx.in/jharkhand_g2001158/for-rent-houses-apartments_c1723',\n",
       " 'https://www.olx.in/chhattisgarh_g2001178/for-rent-houses-apartments_c1723']"
      ]
     },
     "execution_count": 7,
     "metadata": {},
     "output_type": "execute_result"
    }
   ],
   "source": [
    "city_links"
   ]
  },
  {
   "cell_type": "code",
   "execution_count": 8,
   "id": "df28f6d7",
   "metadata": {},
   "outputs": [],
   "source": [
    "driver.quit()"
   ]
  },
  {
   "cell_type": "markdown",
   "id": "9b5670a1",
   "metadata": {},
   "source": [
    "# Scrap property Href data all 20 cities"
   ]
  },
  {
   "cell_type": "code",
   "execution_count": 9,
   "id": "e35fe193",
   "metadata": {},
   "outputs": [],
   "source": [
    "driver = webdriver.Chrome()"
   ]
  },
  {
   "cell_type": "code",
   "execution_count": 10,
   "id": "72661e6e",
   "metadata": {},
   "outputs": [],
   "source": [
    "driver.get(\"https://www.olx.in/kerala_g2001160/for-rent-houses-apartments_c1723\")"
   ]
  },
  {
   "cell_type": "code",
   "execution_count": 11,
   "id": "40f17be9",
   "metadata": {},
   "outputs": [],
   "source": [
    "property_url_1 = [] #kerela\n",
    "start = 0\n",
    "end = 7\n",
    "for page in range(start, end):\n",
    "    url = driver.find_elements(By.XPATH, '//li[@class=\"_1DNjI\"]//a')\n",
    "    for i in url:\n",
    "        property_url_1.append(i.get_attribute('href'))\n",
    "    next_button = driver.find_elements(By.XPATH, \"/html/body/div/div/main/div/div/section/div/div/div[5]/div[2]/div/div[2]/ul/li[42]/div/button\")"
   ]
  },
  {
   "cell_type": "code",
   "execution_count": 12,
   "id": "6e9b540d",
   "metadata": {},
   "outputs": [
    {
     "data": {
      "text/plain": [
       "280"
      ]
     },
     "execution_count": 12,
     "metadata": {},
     "output_type": "execute_result"
    }
   ],
   "source": [
    "len(property_url_1)"
   ]
  },
  {
   "cell_type": "code",
   "execution_count": 13,
   "id": "fa3e6abe",
   "metadata": {},
   "outputs": [],
   "source": [
    "driver.get(\"https://www.olx.in/maharashtra_g2001163/for-rent-houses-apartments_c1723\")"
   ]
  },
  {
   "cell_type": "code",
   "execution_count": 14,
   "id": "a13a5479",
   "metadata": {},
   "outputs": [],
   "source": [
    "property_url_2 = [] #maharashtra\n",
    "start = 0\n",
    "end = 7\n",
    "for page in range(start, end):\n",
    "    url = driver.find_elements(By.XPATH, '//li[@class=\"_1DNjI\"]//a')\n",
    "    for i in url:\n",
    "        property_url_2.append(i.get_attribute('href'))\n",
    "    next_button = driver.find_elements(By.XPATH, \"/html/body/div/div/main/div/div/section/div/div/div[5]/div[2]/div/div[2]/ul/li[42]/div/button\")"
   ]
  },
  {
   "cell_type": "code",
   "execution_count": 15,
   "id": "d8c6823f",
   "metadata": {},
   "outputs": [
    {
     "data": {
      "text/plain": [
       "280"
      ]
     },
     "execution_count": 15,
     "metadata": {},
     "output_type": "execute_result"
    }
   ],
   "source": [
    "len(property_url_2)"
   ]
  },
  {
   "cell_type": "code",
   "execution_count": 16,
   "id": "fff2dc8a",
   "metadata": {},
   "outputs": [],
   "source": [
    "driver.get(\"https://www.olx.in/uttar-pradesh_g2001176/for-rent-houses-apartments_c1723\")"
   ]
  },
  {
   "cell_type": "code",
   "execution_count": 17,
   "id": "dc13ebbd",
   "metadata": {},
   "outputs": [],
   "source": [
    "property_url_3 = [] #uttar-pradesh\n",
    "start = 0\n",
    "end = 7\n",
    "for page in range(start, end):\n",
    "    url = driver.find_elements(By.XPATH, '//li[@class=\"_1DNjI\"]//a')\n",
    "    for i in url:\n",
    "        property_url_3.append(i.get_attribute('href'))\n",
    "    next_button = driver.find_elements(By.XPATH, \"/html/body/div/div/main/div/div/section/div/div/div[5]/div[2]/div/div[2]/ul/li[42]/div/button\")"
   ]
  },
  {
   "cell_type": "code",
   "execution_count": 18,
   "id": "7b68446c",
   "metadata": {},
   "outputs": [
    {
     "data": {
      "text/plain": [
       "280"
      ]
     },
     "execution_count": 18,
     "metadata": {},
     "output_type": "execute_result"
    }
   ],
   "source": [
    "len(property_url_3)"
   ]
  },
  {
   "cell_type": "code",
   "execution_count": 19,
   "id": "40e0742e",
   "metadata": {},
   "outputs": [],
   "source": [
    "driver.get(\"https://www.olx.in/tamil-nadu_g2001173/for-rent-houses-apartments_c1723\")"
   ]
  },
  {
   "cell_type": "code",
   "execution_count": 20,
   "id": "98ee1863",
   "metadata": {},
   "outputs": [],
   "source": [
    "property_url_4 = [] #tamil-nadu\n",
    "start = 0\n",
    "end = 7\n",
    "for page in range(start, end):\n",
    "    url = driver.find_elements(By.XPATH, '//li[@class=\"_1DNjI\"]//a')\n",
    "    for i in url:\n",
    "        property_url_4.append(i.get_attribute('href'))\n",
    "    next_button = driver.find_elements(By.XPATH, \"/html/body/div/div/main/div/div/section/div/div/div[5]/div[2]/div/div[2]/ul/li[42]/div/button\")"
   ]
  },
  {
   "cell_type": "code",
   "execution_count": 21,
   "id": "789a0bd1",
   "metadata": {},
   "outputs": [
    {
     "data": {
      "text/plain": [
       "280"
      ]
     },
     "execution_count": 21,
     "metadata": {},
     "output_type": "execute_result"
    }
   ],
   "source": [
    "len(property_url_4)"
   ]
  },
  {
   "cell_type": "code",
   "execution_count": 22,
   "id": "d1237c8f",
   "metadata": {},
   "outputs": [],
   "source": [
    "driver.get(\"https://www.olx.in/punjab_g2001170/for-rent-houses-apartments_c1723\")"
   ]
  },
  {
   "cell_type": "code",
   "execution_count": 23,
   "id": "54b938d8",
   "metadata": {},
   "outputs": [],
   "source": [
    "property_url_5 = [] #Punjab\n",
    "start = 0\n",
    "end = 7\n",
    "for page in range(start, end):\n",
    "    url = driver.find_elements(By.XPATH, '//li[@class=\"_1DNjI\"]//a')\n",
    "    for i in url:\n",
    "        property_url_5.append(i.get_attribute('href'))\n",
    "    next_button = driver.find_elements(By.XPATH, \"/html/body/div/div/main/div/div/section/div/div/div[5]/div[2]/div/div[2]/ul/li[42]/div/button\")"
   ]
  },
  {
   "cell_type": "code",
   "execution_count": 24,
   "id": "d5ac90ca",
   "metadata": {},
   "outputs": [
    {
     "data": {
      "text/plain": [
       "280"
      ]
     },
     "execution_count": 24,
     "metadata": {},
     "output_type": "execute_result"
    }
   ],
   "source": [
    "len(property_url_5)"
   ]
  },
  {
   "cell_type": "code",
   "execution_count": 25,
   "id": "e77cdbda",
   "metadata": {},
   "outputs": [],
   "source": [
    "driver.get(\"https://www.olx.in/gujarat_g2001154/for-rent-houses-apartments_c1723\")"
   ]
  },
  {
   "cell_type": "code",
   "execution_count": 26,
   "id": "dd07e6c4",
   "metadata": {},
   "outputs": [],
   "source": [
    "property_url_6 = [] #Gujrat\n",
    "start = 0\n",
    "end = 7\n",
    "for page in range(start, end):\n",
    "    url = driver.find_elements(By.XPATH, '//li[@class=\"_1DNjI\"]//a')\n",
    "    for i in url:\n",
    "        property_url_6.append(i.get_attribute('href'))\n",
    "    next_button = driver.find_elements(By.XPATH, \"/html/body/div/div/main/div/div/section/div/div/div[5]/div[2]/div/div[2]/ul/li[42]/div/button\")"
   ]
  },
  {
   "cell_type": "code",
   "execution_count": 27,
   "id": "a6279bc0",
   "metadata": {},
   "outputs": [
    {
     "data": {
      "text/plain": [
       "280"
      ]
     },
     "execution_count": 27,
     "metadata": {},
     "output_type": "execute_result"
    }
   ],
   "source": [
    "len(property_url_6)"
   ]
  },
  {
   "cell_type": "code",
   "execution_count": 28,
   "id": "28541a66",
   "metadata": {},
   "outputs": [],
   "source": [
    "driver.get(\"https://www.olx.in/karnataka_g2001159/for-rent-houses-apartments_c1723\")"
   ]
  },
  {
   "cell_type": "code",
   "execution_count": 29,
   "id": "51e1aa3a",
   "metadata": {},
   "outputs": [],
   "source": [
    "property_url_7 = [] #Karnatka\n",
    "start = 0\n",
    "end = 7\n",
    "for page in range(start, end):\n",
    "    url = driver.find_elements(By.XPATH, '//li[@class=\"_1DNjI\"]//a')\n",
    "    for i in url:\n",
    "        property_url_7.append(i.get_attribute('href'))\n",
    "    next_button = driver.find_elements(By.XPATH, \"/html/body/div/div/main/div/div/section/div/div/div[5]/div[2]/div/div[2]/ul/li[42]/div/button\")"
   ]
  },
  {
   "cell_type": "code",
   "execution_count": 30,
   "id": "34b9f4f7",
   "metadata": {},
   "outputs": [
    {
     "data": {
      "text/plain": [
       "280"
      ]
     },
     "execution_count": 30,
     "metadata": {},
     "output_type": "execute_result"
    }
   ],
   "source": [
    "len(property_url_7)"
   ]
  },
  {
   "cell_type": "code",
   "execution_count": 31,
   "id": "51a3de59",
   "metadata": {},
   "outputs": [],
   "source": [
    "driver.get(\"https://www.olx.in/madhya-pradesh_g2001162/for-rent-houses-apartments_c1723\")"
   ]
  },
  {
   "cell_type": "code",
   "execution_count": 32,
   "id": "f38fe1eb",
   "metadata": {},
   "outputs": [],
   "source": [
    "property_url_8 = [] #madhya-pradesh\n",
    "start = 0\n",
    "end = 7\n",
    "for page in range(start, end):\n",
    "    url = driver.find_elements(By.XPATH, '//li[@class=\"_1DNjI\"]//a')\n",
    "    for i in url:\n",
    "        property_url_8.append(i.get_attribute('href'))\n",
    "    next_button = driver.find_elements(By.XPATH, \"/html/body/div/div/main/div/div/section/div/div/div[5]/div[2]/div/div[2]/ul/li[42]/div/button\")"
   ]
  },
  {
   "cell_type": "code",
   "execution_count": 33,
   "id": "4a95942c",
   "metadata": {},
   "outputs": [
    {
     "data": {
      "text/plain": [
       "280"
      ]
     },
     "execution_count": 33,
     "metadata": {},
     "output_type": "execute_result"
    }
   ],
   "source": [
    "len(property_url_8)"
   ]
  },
  {
   "cell_type": "code",
   "execution_count": 34,
   "id": "ca219d87",
   "metadata": {},
   "outputs": [],
   "source": [
    "driver.get(\"https://www.olx.in/delhi_g2001152/for-rent-houses-apartments_c1723\")"
   ]
  },
  {
   "cell_type": "code",
   "execution_count": 35,
   "id": "fd83603b",
   "metadata": {},
   "outputs": [],
   "source": [
    "property_url_9 = [] #Delhi\n",
    "start = 0\n",
    "end = 7\n",
    "for page in range(start, end):\n",
    "    url = driver.find_elements(By.XPATH, '//li[@class=\"_1DNjI\"]//a')\n",
    "    for i in url:\n",
    "        property_url_9.append(i.get_attribute('href'))\n",
    "    next_button = driver.find_elements(By.XPATH, \"/html/body/div/div/main/div/div/section/div/div/div[5]/div[2]/div/div[2]/ul/li[42]/div/button\")"
   ]
  },
  {
   "cell_type": "code",
   "execution_count": 36,
   "id": "1179cb0b",
   "metadata": {},
   "outputs": [
    {
     "data": {
      "text/plain": [
       "280"
      ]
     },
     "execution_count": 36,
     "metadata": {},
     "output_type": "execute_result"
    }
   ],
   "source": [
    "len(property_url_9)"
   ]
  },
  {
   "cell_type": "code",
   "execution_count": 37,
   "id": "eaef02de",
   "metadata": {},
   "outputs": [],
   "source": [
    "driver.get(\"https://www.olx.in/rajasthan_g2001171/for-rent-houses-apartments_c1723\")"
   ]
  },
  {
   "cell_type": "code",
   "execution_count": 38,
   "id": "1b6d2119",
   "metadata": {},
   "outputs": [],
   "source": [
    "property_url_10 = [] #Rajasthan\n",
    "start = 0\n",
    "end = 7\n",
    "for page in range(start, end):\n",
    "    url = driver.find_elements(By.XPATH, '//li[@class=\"_1DNjI\"]//a')\n",
    "    for i in url:\n",
    "        property_url_10.append(i.get_attribute('href'))\n",
    "    next_button = driver.find_elements(By.XPATH, \"/html/body/div/div/main/div/div/section/div/div/div[5]/div[2]/div/div[2]/ul/li[42]/div/button\")"
   ]
  },
  {
   "cell_type": "code",
   "execution_count": 39,
   "id": "6711881b",
   "metadata": {},
   "outputs": [
    {
     "data": {
      "text/plain": [
       "280"
      ]
     },
     "execution_count": 39,
     "metadata": {},
     "output_type": "execute_result"
    }
   ],
   "source": [
    "len(property_url_10)"
   ]
  },
  {
   "cell_type": "code",
   "execution_count": 40,
   "id": "06a00feb",
   "metadata": {},
   "outputs": [],
   "source": [
    "driver.get(\"https://www.olx.in/haryana_g2001155/for-rent-houses-apartments_c1723\")"
   ]
  },
  {
   "cell_type": "code",
   "execution_count": 41,
   "id": "5314170d",
   "metadata": {},
   "outputs": [],
   "source": [
    "property_url_11 = [] #Haryana\n",
    "start = 0\n",
    "end = 7\n",
    "for page in range(start, end):\n",
    "    url = driver.find_elements(By.XPATH, '//li[@class=\"_1DNjI\"]//a')\n",
    "    for i in url:\n",
    "        property_url_11.append(i.get_attribute('href'))\n",
    "    next_button = driver.find_elements(By.XPATH, \"/html/body/div/div/main/div/div/section/div/div/div[5]/div[2]/div/div[2]/ul/li[42]/div/button\")"
   ]
  },
  {
   "cell_type": "code",
   "execution_count": 42,
   "id": "0f509a81",
   "metadata": {},
   "outputs": [
    {
     "data": {
      "text/plain": [
       "280"
      ]
     },
     "execution_count": 42,
     "metadata": {},
     "output_type": "execute_result"
    }
   ],
   "source": [
    "len(property_url_11)"
   ]
  },
  {
   "cell_type": "code",
   "execution_count": 43,
   "id": "9a98d778",
   "metadata": {},
   "outputs": [],
   "source": [
    "driver.get(\"https://www.olx.in/west-bengal_g2001177/for-rent-houses-apartments_c1723\")"
   ]
  },
  {
   "cell_type": "code",
   "execution_count": 44,
   "id": "1bdd5a07",
   "metadata": {},
   "outputs": [],
   "source": [
    "property_url_12 = [] #west-bengal\n",
    "start = 0\n",
    "end = 7\n",
    "for page in range(start, end):\n",
    "    url = driver.find_elements(By.XPATH, '//li[@class=\"_1DNjI\"]//a')\n",
    "    for i in url:\n",
    "        property_url_12.append(i.get_attribute('href'))\n",
    "    next_button = driver.find_elements(By.XPATH, \"/html/body/div/div/main/div/div/section/div/div/div[5]/div[2]/div/div[2]/ul/li[42]/div/button\")"
   ]
  },
  {
   "cell_type": "code",
   "execution_count": 45,
   "id": "f251f080",
   "metadata": {},
   "outputs": [
    {
     "data": {
      "text/plain": [
       "280"
      ]
     },
     "execution_count": 45,
     "metadata": {},
     "output_type": "execute_result"
    }
   ],
   "source": [
    "len(property_url_12)"
   ]
  },
  {
   "cell_type": "code",
   "execution_count": 46,
   "id": "b14fb680",
   "metadata": {},
   "outputs": [],
   "source": [
    "driver.get(\"https://www.olx.in/odisha_g2001168/for-rent-houses-apartments_c1723\")"
   ]
  },
  {
   "cell_type": "code",
   "execution_count": 47,
   "id": "57094a01",
   "metadata": {},
   "outputs": [],
   "source": [
    "property_url_13 = [] #Odisha\n",
    "start = 0\n",
    "end = 7\n",
    "for page in range(start, end):\n",
    "    url = driver.find_elements(By.XPATH, '//li[@class=\"_1DNjI\"]//a')\n",
    "    for i in url:\n",
    "        property_url_13.append(i.get_attribute('href'))\n",
    "    next_button = driver.find_elements(By.XPATH, \"/html/body/div/div/main/div/div/section/div/div/div[5]/div[2]/div/div[2]/ul/li[42]/div/button\")"
   ]
  },
  {
   "cell_type": "code",
   "execution_count": 48,
   "id": "d29e034d",
   "metadata": {},
   "outputs": [
    {
     "data": {
      "text/plain": [
       "280"
      ]
     },
     "execution_count": 48,
     "metadata": {},
     "output_type": "execute_result"
    }
   ],
   "source": [
    "len(property_url_13)"
   ]
  },
  {
   "cell_type": "code",
   "execution_count": 49,
   "id": "eb25913c",
   "metadata": {},
   "outputs": [],
   "source": [
    "driver.get(\"https://www.olx.in/andhra-pradesh_g2001145/for-rent-houses-apartments_c1723\")"
   ]
  },
  {
   "cell_type": "code",
   "execution_count": 50,
   "id": "093c0fd3",
   "metadata": {},
   "outputs": [],
   "source": [
    "property_url_14 = [] #andhra-pradesh\n",
    "start = 0\n",
    "end = 7\n",
    "for page in range(start, end):\n",
    "    url = driver.find_elements(By.XPATH, '//li[@class=\"_1DNjI\"]//a')\n",
    "    for i in url:\n",
    "        property_url_14.append(i.get_attribute('href'))\n",
    "    next_button = driver.find_elements(By.XPATH, \"/html/body/div/div/main/div/div/section/div/div/div[5]/div[2]/div/div[2]/ul/li[42]/div/button\")"
   ]
  },
  {
   "cell_type": "code",
   "execution_count": 51,
   "id": "aea621e3",
   "metadata": {},
   "outputs": [
    {
     "data": {
      "text/plain": [
       "280"
      ]
     },
     "execution_count": 51,
     "metadata": {},
     "output_type": "execute_result"
    }
   ],
   "source": [
    "len(property_url_14)"
   ]
  },
  {
   "cell_type": "code",
   "execution_count": 52,
   "id": "37d485dd",
   "metadata": {},
   "outputs": [],
   "source": [
    "driver.get(\"https://www.olx.in/telangana_g2007599/for-rent-houses-apartments_c1723\")"
   ]
  },
  {
   "cell_type": "code",
   "execution_count": 53,
   "id": "d91bc2b5",
   "metadata": {},
   "outputs": [],
   "source": [
    "property_url_15 = [] #telangana\n",
    "start = 0\n",
    "end = 7\n",
    "for page in range(start, end):\n",
    "    url = driver.find_elements(By.XPATH, '//li[@class=\"_1DNjI\"]//a')\n",
    "    for i in url:\n",
    "        property_url_15.append(i.get_attribute('href'))\n",
    "    next_button = driver.find_elements(By.XPATH, \"/html/body/div/div/main/div/div/section/div/div/div[5]/div[2]/div/div[2]/ul/li[42]/div/button\")"
   ]
  },
  {
   "cell_type": "code",
   "execution_count": 54,
   "id": "2d130e44",
   "metadata": {},
   "outputs": [
    {
     "data": {
      "text/plain": [
       "280"
      ]
     },
     "execution_count": 54,
     "metadata": {},
     "output_type": "execute_result"
    }
   ],
   "source": [
    "len(property_url_15)"
   ]
  },
  {
   "cell_type": "code",
   "execution_count": 55,
   "id": "74c4773f",
   "metadata": {},
   "outputs": [],
   "source": [
    "driver.get(\"https://www.olx.in/assam_g2001147/for-rent-houses-apartments_c1723\")"
   ]
  },
  {
   "cell_type": "code",
   "execution_count": 56,
   "id": "e579279f",
   "metadata": {},
   "outputs": [],
   "source": [
    "property_url_16 = [] #Assam\n",
    "start = 0\n",
    "end = 7\n",
    "for page in range(start, end):\n",
    "    url = driver.find_elements(By.XPATH, '//li[@class=\"_1DNjI\"]//a')\n",
    "    for i in url:\n",
    "        property_url_16.append(i.get_attribute('href'))\n",
    "    next_button = driver.find_elements(By.XPATH, \"/html/body/div/div/main/div/div/section/div/div/div[5]/div[2]/div/div[2]/ul/li[42]/div/button\")"
   ]
  },
  {
   "cell_type": "code",
   "execution_count": 57,
   "id": "eaddfa27",
   "metadata": {},
   "outputs": [
    {
     "data": {
      "text/plain": [
       "280"
      ]
     },
     "execution_count": 57,
     "metadata": {},
     "output_type": "execute_result"
    }
   ],
   "source": [
    "len(property_url_16)"
   ]
  },
  {
   "cell_type": "code",
   "execution_count": 58,
   "id": "e3e16c09",
   "metadata": {},
   "outputs": [],
   "source": [
    "driver.get(\"https://www.olx.in/uttaranchal_g2001175/for-rent-houses-apartments_c1723\")"
   ]
  },
  {
   "cell_type": "code",
   "execution_count": 59,
   "id": "92bc07e0",
   "metadata": {},
   "outputs": [],
   "source": [
    "property_url_17 = [] #uttaranchal\n",
    "start = 0\n",
    "end = 7\n",
    "for page in range(start, end):\n",
    "    url = driver.find_elements(By.XPATH, '//li[@class=\"_1DNjI\"]//a')\n",
    "    for i in url:\n",
    "        property_url_17.append(i.get_attribute('href'))\n",
    "    next_button = driver.find_elements(By.XPATH, \"/html/body/div/div/main/div/div/section/div/div/div[5]/div[2]/div/div[2]/ul/li[42]/div/button\")"
   ]
  },
  {
   "cell_type": "code",
   "execution_count": 60,
   "id": "553e46b6",
   "metadata": {},
   "outputs": [
    {
     "data": {
      "text/plain": [
       "280"
      ]
     },
     "execution_count": 60,
     "metadata": {},
     "output_type": "execute_result"
    }
   ],
   "source": [
    "len(property_url_17)"
   ]
  },
  {
   "cell_type": "code",
   "execution_count": 61,
   "id": "8ee5c1f1",
   "metadata": {},
   "outputs": [],
   "source": [
    "driver.get(\"https://www.olx.in/bihar_g2001148/for-rent-houses-apartments_c1723\")"
   ]
  },
  {
   "cell_type": "code",
   "execution_count": 62,
   "id": "2f359acc",
   "metadata": {},
   "outputs": [],
   "source": [
    "property_url_18 = [] #Bihar\n",
    "start = 0\n",
    "end = 7\n",
    "for page in range(start, end):\n",
    "    url = driver.find_elements(By.XPATH, '//li[@class=\"_1DNjI\"]//a')\n",
    "    for i in url:\n",
    "        property_url_18.append(i.get_attribute('href'))\n",
    "    next_button = driver.find_elements(By.XPATH, \"/html/body/div/div/main/div/div/section/div/div/div[5]/div[2]/div/div[2]/ul/li[42]/div/button\")"
   ]
  },
  {
   "cell_type": "code",
   "execution_count": 63,
   "id": "df41f480",
   "metadata": {},
   "outputs": [
    {
     "data": {
      "text/plain": [
       "280"
      ]
     },
     "execution_count": 63,
     "metadata": {},
     "output_type": "execute_result"
    }
   ],
   "source": [
    "len(property_url_18)"
   ]
  },
  {
   "cell_type": "code",
   "execution_count": 64,
   "id": "5db815d6",
   "metadata": {},
   "outputs": [],
   "source": [
    "driver.get(\"https://www.olx.in/jharkhand_g2001158/for-rent-houses-apartments_c1723\")"
   ]
  },
  {
   "cell_type": "code",
   "execution_count": 65,
   "id": "9103effc",
   "metadata": {},
   "outputs": [],
   "source": [
    "property_url_19 = [] #Jharkhand\n",
    "start = 0\n",
    "end = 7\n",
    "for page in range(start, end):\n",
    "    url = driver.find_elements(By.XPATH, '//li[@class=\"_1DNjI\"]//a')\n",
    "    for i in url:\n",
    "        property_url_19.append(i.get_attribute('href'))\n",
    "    next_button = driver.find_elements(By.XPATH, \"/html/body/div/div/main/div/div/section/div/div/div[5]/div[2]/div/div[2]/ul/li[42]/div/button\")"
   ]
  },
  {
   "cell_type": "code",
   "execution_count": 66,
   "id": "7e671762",
   "metadata": {},
   "outputs": [
    {
     "data": {
      "text/plain": [
       "280"
      ]
     },
     "execution_count": 66,
     "metadata": {},
     "output_type": "execute_result"
    }
   ],
   "source": [
    "len(property_url_19)"
   ]
  },
  {
   "cell_type": "code",
   "execution_count": 67,
   "id": "62c40ed2",
   "metadata": {},
   "outputs": [],
   "source": [
    "driver.get(\"https://www.olx.in/chhattisgarh_g2001178/for-rent-houses-apartments_c1723\")"
   ]
  },
  {
   "cell_type": "code",
   "execution_count": 68,
   "id": "c663e0b4",
   "metadata": {},
   "outputs": [],
   "source": [
    "property_url_20 = [] #chhattisgarh\n",
    "start = 0\n",
    "end = 7\n",
    "for page in range(start, end):\n",
    "    url = driver.find_elements(By.XPATH, '//li[@class=\"_1DNjI\"]//a')\n",
    "    for i in url:\n",
    "        property_url_20.append(i.get_attribute('href'))\n",
    "    next_button = driver.find_elements(By.XPATH, \"/html/body/div/div/main/div/div/section/div/div/div[5]/div[2]/div/div[2]/ul/li[42]/div/button\")"
   ]
  },
  {
   "cell_type": "code",
   "execution_count": 69,
   "id": "6b8abb01",
   "metadata": {},
   "outputs": [
    {
     "data": {
      "text/plain": [
       "280"
      ]
     },
     "execution_count": 69,
     "metadata": {},
     "output_type": "execute_result"
    }
   ],
   "source": [
    "len(property_url_20)"
   ]
  },
  {
   "cell_type": "code",
   "execution_count": 70,
   "id": "e3bfb1d3",
   "metadata": {},
   "outputs": [],
   "source": [
    "property_urls = property_url_1 + property_url_2 + property_url_3 + property_url_4 + property_url_5 + property_url_6 + property_url_7 + property_url_8 + property_url_9 + property_url_10 + property_url_11 + property_url_12 + property_url_13 + property_url_14 + property_url_15 + property_url_16 + property_url_17 + property_url_18 + property_url_19 + property_url_20\n",
    "\n",
    "property_urls = []\n",
    "for i in range(1, 21):\n",
    "    property_urls += globals()[f'property_url_{i}']"
   ]
  },
  {
   "cell_type": "code",
   "execution_count": 71,
   "id": "09c493e4",
   "metadata": {},
   "outputs": [
    {
     "data": {
      "text/plain": [
       "['https://www.olx.in/item/1-bhk-kakkanad-athani-near-infoprk-iid-1761418024',\n",
       " 'https://www.olx.in/item/furnished-2-bhk-flat-in-kozhikode-city-iid-1583594292',\n",
       " 'https://www.olx.in/item/landlinks-pearls-6d-iid-1760168020',\n",
       " 'https://www.olx.in/item/spacious-2bhk-ground-floor-close-to-palakkad-junction-iid-1762874196',\n",
       " 'https://www.olx.in/item/nedumbasery-near-airport-4-bhk-fully-furnished-house-for-rent-iid-1757469417',\n",
       " 'https://www.olx.in/item/near-thrikkanamangal-iid-1762873759',\n",
       " 'https://www.olx.in/item/3bhk-semi-furnished-flat-for-rent-at-kalathipady-kottayam-iid-1762873671',\n",
       " 'https://www.olx.in/item/1-bhk-apartment-iid-1762873218',\n",
       " 'https://www.olx.in/item/thiruvlla-nellad-commercial-residential-building-for-rental-iid-1762873066',\n",
       " 'https://www.olx.in/item/super-deal-fully-furnished-duplex-villa-at-the-heart-of-calicut--iid-1762873064',\n",
       " 'https://www.olx.in/item/2bhk-independent-house-lease-aluva-power-house-junction-iid-1762872902',\n",
       " 'https://www.olx.in/item/posh-area-4-bhk-gated-colony-villa-for-rent-tripunithura-near-by-iid-1762872874',\n",
       " 'https://www.olx.in/item/2-rooms-for-rent-near-muthoor-thiruvalla-iid-1762872644',\n",
       " 'https://www.olx.in/item/-iid-1762872608',\n",
       " 'https://www.olx.in/item/house-for-sale-at-aluvathottumugham-iid-1761384541',\n",
       " 'https://www.olx.in/item/bachelers-welcome-4-bhk-individual-home-for-rent-irumbhanam-iid-1762872573',\n",
       " 'https://www.olx.in/item/3-bhk-house-for-lease-at-kuzhivelippadi-infopark-5-km-iid-1762872559',\n",
       " 'https://www.olx.in/item/3-bhk-unfurnished-flar-for-rent-near-lulu-mall-calicut-iid-1762872507',\n",
       " 'https://www.olx.in/item/independent-house-muttada-vayalikada-main-road-side-iid-1762872444',\n",
       " 'https://www.olx.in/item/good-house-2-bhk-up-stair-for-rent-tripunithura-eroor-iid-1762872242',\n",
       " 'https://www.olx.in/item/house-for-rent-iid-1762793333',\n",
       " 'https://www.olx.in/item/1-bhk-fully-furnished-flat-for-rent-with-beautiful-view-iid-1762779534',\n",
       " 'https://www.olx.in/item/3-bhk-furnished-flat-for-rent-only-family-iid-1760544364',\n",
       " 'https://www.olx.in/item/2-bhk-furnished-flat-for-rent-near-chevayoor-calicut-iid-1762872025',\n",
       " 'https://www.olx.in/item/fully-furnished-new-house-for-rent-iid-1762871991',\n",
       " 'https://www.olx.in/item/executive-bacherlers-welcome-3-bhk-indipentent-home-rent-tripunithura-iid-1762871990',\n",
       " 'https://www.olx.in/item/marinedrive-3-bhk-kochi-mg-road-high-court-ernakulam-flat-rent-cochin-iid-1761141703',\n",
       " 'https://www.olx.in/item/kakkanad-chittethukara-rajigiri-college-near-iid-1762871378',\n",
       " 'https://www.olx.in/item/3-bhk-posh-furnished-apartment-for-rent-panambilly-nagar-iid-1762871343',\n",
       " 'https://www.olx.in/item/25-bhk-flat-surya-apartments-kannur-city-iid-1754057352',\n",
       " 'https://www.olx.in/item/for-rent-airport-jn-athani-odupura-old-indipendent-house-chengamanad-iid-1759052098',\n",
       " 'https://www.olx.in/item/for-rent-2bhk-2attached-bathroom-indipendent-house-at-edavanakad-vypin-iid-1759051341',\n",
       " 'https://www.olx.in/item/searching-for-1bhk-room-for-rent-for-small-family-iid-1762871112',\n",
       " 'https://www.olx.in/item/3-bhk-big-gated-villa-for-rent-thammanam-vytila-iid-1762871035',\n",
       " 'https://www.olx.in/item/bachelers-pls-welcome-2-bhk-furnished-apartment-for-rent-maradu-iid-1762870610',\n",
       " 'https://www.olx.in/item/2bhk-flat-for-rent-8500-at-manjeshwara-highway-iid-1762870336',\n",
       " 'https://www.olx.in/item/5-bhk-residencial-or-commercial-purpose-house-for-rent-tripunithura-iid-1762870142',\n",
       " 'https://www.olx.in/item/3-bedroom-fully-furnished-house-at-vadavathoor-iid-1762870118',\n",
       " 'https://www.olx.in/item/2bds-2ba-1100ft2-independent-house-iid-1762869763',\n",
       " 'https://www.olx.in/item/rent-house-at-mannanam-iid-1762869617',\n",
       " 'https://www.olx.in/item/1-bhk-kakkanad-athani-near-infoprk-iid-1761418024',\n",
       " 'https://www.olx.in/item/furnished-2-bhk-flat-in-kozhikode-city-iid-1583594292',\n",
       " 'https://www.olx.in/item/landlinks-pearls-6d-iid-1760168020',\n",
       " 'https://www.olx.in/item/spacious-2bhk-ground-floor-close-to-palakkad-junction-iid-1762874196',\n",
       " 'https://www.olx.in/item/nedumbasery-near-airport-4-bhk-fully-furnished-house-for-rent-iid-1757469417',\n",
       " 'https://www.olx.in/item/near-thrikkanamangal-iid-1762873759',\n",
       " 'https://www.olx.in/item/3bhk-semi-furnished-flat-for-rent-at-kalathipady-kottayam-iid-1762873671',\n",
       " 'https://www.olx.in/item/1-bhk-apartment-iid-1762873218',\n",
       " 'https://www.olx.in/item/thiruvlla-nellad-commercial-residential-building-for-rental-iid-1762873066',\n",
       " 'https://www.olx.in/item/super-deal-fully-furnished-duplex-villa-at-the-heart-of-calicut--iid-1762873064',\n",
       " 'https://www.olx.in/item/2bhk-independent-house-lease-aluva-power-house-junction-iid-1762872902',\n",
       " 'https://www.olx.in/item/posh-area-4-bhk-gated-colony-villa-for-rent-tripunithura-near-by-iid-1762872874',\n",
       " 'https://www.olx.in/item/2-rooms-for-rent-near-muthoor-thiruvalla-iid-1762872644',\n",
       " 'https://www.olx.in/item/-iid-1762872608',\n",
       " 'https://www.olx.in/item/house-for-sale-at-aluvathottumugham-iid-1761384541',\n",
       " 'https://www.olx.in/item/bachelers-welcome-4-bhk-individual-home-for-rent-irumbhanam-iid-1762872573',\n",
       " 'https://www.olx.in/item/3-bhk-house-for-lease-at-kuzhivelippadi-infopark-5-km-iid-1762872559',\n",
       " 'https://www.olx.in/item/3-bhk-unfurnished-flar-for-rent-near-lulu-mall-calicut-iid-1762872507',\n",
       " 'https://www.olx.in/item/independent-house-muttada-vayalikada-main-road-side-iid-1762872444',\n",
       " 'https://www.olx.in/item/good-house-2-bhk-up-stair-for-rent-tripunithura-eroor-iid-1762872242',\n",
       " 'https://www.olx.in/item/house-for-rent-iid-1762793333',\n",
       " 'https://www.olx.in/item/1-bhk-fully-furnished-flat-for-rent-with-beautiful-view-iid-1762779534',\n",
       " 'https://www.olx.in/item/3-bhk-furnished-flat-for-rent-only-family-iid-1760544364',\n",
       " 'https://www.olx.in/item/2-bhk-furnished-flat-for-rent-near-chevayoor-calicut-iid-1762872025',\n",
       " 'https://www.olx.in/item/fully-furnished-new-house-for-rent-iid-1762871991',\n",
       " 'https://www.olx.in/item/executive-bacherlers-welcome-3-bhk-indipentent-home-rent-tripunithura-iid-1762871990',\n",
       " 'https://www.olx.in/item/marinedrive-3-bhk-kochi-mg-road-high-court-ernakulam-flat-rent-cochin-iid-1761141703',\n",
       " 'https://www.olx.in/item/kakkanad-chittethukara-rajigiri-college-near-iid-1762871378',\n",
       " 'https://www.olx.in/item/3-bhk-posh-furnished-apartment-for-rent-panambilly-nagar-iid-1762871343',\n",
       " 'https://www.olx.in/item/25-bhk-flat-surya-apartments-kannur-city-iid-1754057352',\n",
       " 'https://www.olx.in/item/for-rent-airport-jn-athani-odupura-old-indipendent-house-chengamanad-iid-1759052098',\n",
       " 'https://www.olx.in/item/for-rent-2bhk-2attached-bathroom-indipendent-house-at-edavanakad-vypin-iid-1759051341',\n",
       " 'https://www.olx.in/item/searching-for-1bhk-room-for-rent-for-small-family-iid-1762871112',\n",
       " 'https://www.olx.in/item/3-bhk-big-gated-villa-for-rent-thammanam-vytila-iid-1762871035',\n",
       " 'https://www.olx.in/item/bachelers-pls-welcome-2-bhk-furnished-apartment-for-rent-maradu-iid-1762870610',\n",
       " 'https://www.olx.in/item/2bhk-flat-for-rent-8500-at-manjeshwara-highway-iid-1762870336',\n",
       " 'https://www.olx.in/item/5-bhk-residencial-or-commercial-purpose-house-for-rent-tripunithura-iid-1762870142',\n",
       " 'https://www.olx.in/item/3-bedroom-fully-furnished-house-at-vadavathoor-iid-1762870118',\n",
       " 'https://www.olx.in/item/2bds-2ba-1100ft2-independent-house-iid-1762869763',\n",
       " 'https://www.olx.in/item/rent-house-at-mannanam-iid-1762869617',\n",
       " 'https://www.olx.in/item/1-bhk-kakkanad-athani-near-infoprk-iid-1761418024',\n",
       " 'https://www.olx.in/item/furnished-2-bhk-flat-in-kozhikode-city-iid-1583594292',\n",
       " 'https://www.olx.in/item/landlinks-pearls-6d-iid-1760168020',\n",
       " 'https://www.olx.in/item/spacious-2bhk-ground-floor-close-to-palakkad-junction-iid-1762874196',\n",
       " 'https://www.olx.in/item/nedumbasery-near-airport-4-bhk-fully-furnished-house-for-rent-iid-1757469417',\n",
       " 'https://www.olx.in/item/near-thrikkanamangal-iid-1762873759',\n",
       " 'https://www.olx.in/item/3bhk-semi-furnished-flat-for-rent-at-kalathipady-kottayam-iid-1762873671',\n",
       " 'https://www.olx.in/item/1-bhk-apartment-iid-1762873218',\n",
       " 'https://www.olx.in/item/thiruvlla-nellad-commercial-residential-building-for-rental-iid-1762873066',\n",
       " 'https://www.olx.in/item/super-deal-fully-furnished-duplex-villa-at-the-heart-of-calicut--iid-1762873064',\n",
       " 'https://www.olx.in/item/2bhk-independent-house-lease-aluva-power-house-junction-iid-1762872902',\n",
       " 'https://www.olx.in/item/posh-area-4-bhk-gated-colony-villa-for-rent-tripunithura-near-by-iid-1762872874',\n",
       " 'https://www.olx.in/item/2-rooms-for-rent-near-muthoor-thiruvalla-iid-1762872644',\n",
       " 'https://www.olx.in/item/-iid-1762872608',\n",
       " 'https://www.olx.in/item/house-for-sale-at-aluvathottumugham-iid-1761384541',\n",
       " 'https://www.olx.in/item/bachelers-welcome-4-bhk-individual-home-for-rent-irumbhanam-iid-1762872573',\n",
       " 'https://www.olx.in/item/3-bhk-house-for-lease-at-kuzhivelippadi-infopark-5-km-iid-1762872559',\n",
       " 'https://www.olx.in/item/3-bhk-unfurnished-flar-for-rent-near-lulu-mall-calicut-iid-1762872507',\n",
       " 'https://www.olx.in/item/independent-house-muttada-vayalikada-main-road-side-iid-1762872444',\n",
       " 'https://www.olx.in/item/good-house-2-bhk-up-stair-for-rent-tripunithura-eroor-iid-1762872242',\n",
       " 'https://www.olx.in/item/house-for-rent-iid-1762793333',\n",
       " 'https://www.olx.in/item/1-bhk-fully-furnished-flat-for-rent-with-beautiful-view-iid-1762779534',\n",
       " 'https://www.olx.in/item/3-bhk-furnished-flat-for-rent-only-family-iid-1760544364',\n",
       " 'https://www.olx.in/item/2-bhk-furnished-flat-for-rent-near-chevayoor-calicut-iid-1762872025',\n",
       " 'https://www.olx.in/item/fully-furnished-new-house-for-rent-iid-1762871991',\n",
       " 'https://www.olx.in/item/executive-bacherlers-welcome-3-bhk-indipentent-home-rent-tripunithura-iid-1762871990',\n",
       " 'https://www.olx.in/item/marinedrive-3-bhk-kochi-mg-road-high-court-ernakulam-flat-rent-cochin-iid-1761141703',\n",
       " 'https://www.olx.in/item/kakkanad-chittethukara-rajigiri-college-near-iid-1762871378',\n",
       " 'https://www.olx.in/item/3-bhk-posh-furnished-apartment-for-rent-panambilly-nagar-iid-1762871343',\n",
       " 'https://www.olx.in/item/25-bhk-flat-surya-apartments-kannur-city-iid-1754057352',\n",
       " 'https://www.olx.in/item/for-rent-airport-jn-athani-odupura-old-indipendent-house-chengamanad-iid-1759052098',\n",
       " 'https://www.olx.in/item/for-rent-2bhk-2attached-bathroom-indipendent-house-at-edavanakad-vypin-iid-1759051341',\n",
       " 'https://www.olx.in/item/searching-for-1bhk-room-for-rent-for-small-family-iid-1762871112',\n",
       " 'https://www.olx.in/item/3-bhk-big-gated-villa-for-rent-thammanam-vytila-iid-1762871035',\n",
       " 'https://www.olx.in/item/bachelers-pls-welcome-2-bhk-furnished-apartment-for-rent-maradu-iid-1762870610',\n",
       " 'https://www.olx.in/item/2bhk-flat-for-rent-8500-at-manjeshwara-highway-iid-1762870336',\n",
       " 'https://www.olx.in/item/5-bhk-residencial-or-commercial-purpose-house-for-rent-tripunithura-iid-1762870142',\n",
       " 'https://www.olx.in/item/3-bedroom-fully-furnished-house-at-vadavathoor-iid-1762870118',\n",
       " 'https://www.olx.in/item/2bds-2ba-1100ft2-independent-house-iid-1762869763',\n",
       " 'https://www.olx.in/item/rent-house-at-mannanam-iid-1762869617',\n",
       " 'https://www.olx.in/item/1-bhk-kakkanad-athani-near-infoprk-iid-1761418024',\n",
       " 'https://www.olx.in/item/furnished-2-bhk-flat-in-kozhikode-city-iid-1583594292',\n",
       " 'https://www.olx.in/item/landlinks-pearls-6d-iid-1760168020',\n",
       " 'https://www.olx.in/item/spacious-2bhk-ground-floor-close-to-palakkad-junction-iid-1762874196',\n",
       " 'https://www.olx.in/item/nedumbasery-near-airport-4-bhk-fully-furnished-house-for-rent-iid-1757469417',\n",
       " 'https://www.olx.in/item/near-thrikkanamangal-iid-1762873759',\n",
       " 'https://www.olx.in/item/3bhk-semi-furnished-flat-for-rent-at-kalathipady-kottayam-iid-1762873671',\n",
       " 'https://www.olx.in/item/1-bhk-apartment-iid-1762873218',\n",
       " 'https://www.olx.in/item/thiruvlla-nellad-commercial-residential-building-for-rental-iid-1762873066',\n",
       " 'https://www.olx.in/item/super-deal-fully-furnished-duplex-villa-at-the-heart-of-calicut--iid-1762873064',\n",
       " 'https://www.olx.in/item/2bhk-independent-house-lease-aluva-power-house-junction-iid-1762872902',\n",
       " 'https://www.olx.in/item/posh-area-4-bhk-gated-colony-villa-for-rent-tripunithura-near-by-iid-1762872874',\n",
       " 'https://www.olx.in/item/2-rooms-for-rent-near-muthoor-thiruvalla-iid-1762872644',\n",
       " 'https://www.olx.in/item/-iid-1762872608',\n",
       " 'https://www.olx.in/item/house-for-sale-at-aluvathottumugham-iid-1761384541',\n",
       " 'https://www.olx.in/item/bachelers-welcome-4-bhk-individual-home-for-rent-irumbhanam-iid-1762872573',\n",
       " 'https://www.olx.in/item/3-bhk-house-for-lease-at-kuzhivelippadi-infopark-5-km-iid-1762872559',\n",
       " 'https://www.olx.in/item/3-bhk-unfurnished-flar-for-rent-near-lulu-mall-calicut-iid-1762872507',\n",
       " 'https://www.olx.in/item/independent-house-muttada-vayalikada-main-road-side-iid-1762872444',\n",
       " 'https://www.olx.in/item/good-house-2-bhk-up-stair-for-rent-tripunithura-eroor-iid-1762872242',\n",
       " 'https://www.olx.in/item/house-for-rent-iid-1762793333',\n",
       " 'https://www.olx.in/item/1-bhk-fully-furnished-flat-for-rent-with-beautiful-view-iid-1762779534',\n",
       " 'https://www.olx.in/item/3-bhk-furnished-flat-for-rent-only-family-iid-1760544364',\n",
       " 'https://www.olx.in/item/2-bhk-furnished-flat-for-rent-near-chevayoor-calicut-iid-1762872025',\n",
       " 'https://www.olx.in/item/fully-furnished-new-house-for-rent-iid-1762871991',\n",
       " 'https://www.olx.in/item/executive-bacherlers-welcome-3-bhk-indipentent-home-rent-tripunithura-iid-1762871990',\n",
       " 'https://www.olx.in/item/marinedrive-3-bhk-kochi-mg-road-high-court-ernakulam-flat-rent-cochin-iid-1761141703',\n",
       " 'https://www.olx.in/item/kakkanad-chittethukara-rajigiri-college-near-iid-1762871378',\n",
       " 'https://www.olx.in/item/3-bhk-posh-furnished-apartment-for-rent-panambilly-nagar-iid-1762871343',\n",
       " 'https://www.olx.in/item/25-bhk-flat-surya-apartments-kannur-city-iid-1754057352',\n",
       " 'https://www.olx.in/item/for-rent-airport-jn-athani-odupura-old-indipendent-house-chengamanad-iid-1759052098',\n",
       " 'https://www.olx.in/item/for-rent-2bhk-2attached-bathroom-indipendent-house-at-edavanakad-vypin-iid-1759051341',\n",
       " 'https://www.olx.in/item/searching-for-1bhk-room-for-rent-for-small-family-iid-1762871112',\n",
       " 'https://www.olx.in/item/3-bhk-big-gated-villa-for-rent-thammanam-vytila-iid-1762871035',\n",
       " 'https://www.olx.in/item/bachelers-pls-welcome-2-bhk-furnished-apartment-for-rent-maradu-iid-1762870610',\n",
       " 'https://www.olx.in/item/2bhk-flat-for-rent-8500-at-manjeshwara-highway-iid-1762870336',\n",
       " 'https://www.olx.in/item/5-bhk-residencial-or-commercial-purpose-house-for-rent-tripunithura-iid-1762870142',\n",
       " 'https://www.olx.in/item/3-bedroom-fully-furnished-house-at-vadavathoor-iid-1762870118',\n",
       " 'https://www.olx.in/item/2bds-2ba-1100ft2-independent-house-iid-1762869763',\n",
       " 'https://www.olx.in/item/rent-house-at-mannanam-iid-1762869617',\n",
       " 'https://www.olx.in/item/1-bhk-kakkanad-athani-near-infoprk-iid-1761418024',\n",
       " 'https://www.olx.in/item/furnished-2-bhk-flat-in-kozhikode-city-iid-1583594292',\n",
       " 'https://www.olx.in/item/landlinks-pearls-6d-iid-1760168020',\n",
       " 'https://www.olx.in/item/spacious-2bhk-ground-floor-close-to-palakkad-junction-iid-1762874196',\n",
       " 'https://www.olx.in/item/nedumbasery-near-airport-4-bhk-fully-furnished-house-for-rent-iid-1757469417',\n",
       " 'https://www.olx.in/item/near-thrikkanamangal-iid-1762873759',\n",
       " 'https://www.olx.in/item/3bhk-semi-furnished-flat-for-rent-at-kalathipady-kottayam-iid-1762873671',\n",
       " 'https://www.olx.in/item/1-bhk-apartment-iid-1762873218',\n",
       " 'https://www.olx.in/item/thiruvlla-nellad-commercial-residential-building-for-rental-iid-1762873066',\n",
       " 'https://www.olx.in/item/super-deal-fully-furnished-duplex-villa-at-the-heart-of-calicut--iid-1762873064',\n",
       " 'https://www.olx.in/item/2bhk-independent-house-lease-aluva-power-house-junction-iid-1762872902',\n",
       " 'https://www.olx.in/item/posh-area-4-bhk-gated-colony-villa-for-rent-tripunithura-near-by-iid-1762872874',\n",
       " 'https://www.olx.in/item/2-rooms-for-rent-near-muthoor-thiruvalla-iid-1762872644',\n",
       " 'https://www.olx.in/item/-iid-1762872608',\n",
       " 'https://www.olx.in/item/house-for-sale-at-aluvathottumugham-iid-1761384541',\n",
       " 'https://www.olx.in/item/bachelers-welcome-4-bhk-individual-home-for-rent-irumbhanam-iid-1762872573',\n",
       " 'https://www.olx.in/item/3-bhk-house-for-lease-at-kuzhivelippadi-infopark-5-km-iid-1762872559',\n",
       " 'https://www.olx.in/item/3-bhk-unfurnished-flar-for-rent-near-lulu-mall-calicut-iid-1762872507',\n",
       " 'https://www.olx.in/item/independent-house-muttada-vayalikada-main-road-side-iid-1762872444',\n",
       " 'https://www.olx.in/item/good-house-2-bhk-up-stair-for-rent-tripunithura-eroor-iid-1762872242',\n",
       " 'https://www.olx.in/item/house-for-rent-iid-1762793333',\n",
       " 'https://www.olx.in/item/1-bhk-fully-furnished-flat-for-rent-with-beautiful-view-iid-1762779534',\n",
       " 'https://www.olx.in/item/3-bhk-furnished-flat-for-rent-only-family-iid-1760544364',\n",
       " 'https://www.olx.in/item/2-bhk-furnished-flat-for-rent-near-chevayoor-calicut-iid-1762872025',\n",
       " 'https://www.olx.in/item/fully-furnished-new-house-for-rent-iid-1762871991',\n",
       " 'https://www.olx.in/item/executive-bacherlers-welcome-3-bhk-indipentent-home-rent-tripunithura-iid-1762871990',\n",
       " 'https://www.olx.in/item/marinedrive-3-bhk-kochi-mg-road-high-court-ernakulam-flat-rent-cochin-iid-1761141703',\n",
       " 'https://www.olx.in/item/kakkanad-chittethukara-rajigiri-college-near-iid-1762871378',\n",
       " 'https://www.olx.in/item/3-bhk-posh-furnished-apartment-for-rent-panambilly-nagar-iid-1762871343',\n",
       " 'https://www.olx.in/item/25-bhk-flat-surya-apartments-kannur-city-iid-1754057352',\n",
       " 'https://www.olx.in/item/for-rent-airport-jn-athani-odupura-old-indipendent-house-chengamanad-iid-1759052098',\n",
       " 'https://www.olx.in/item/for-rent-2bhk-2attached-bathroom-indipendent-house-at-edavanakad-vypin-iid-1759051341',\n",
       " 'https://www.olx.in/item/searching-for-1bhk-room-for-rent-for-small-family-iid-1762871112',\n",
       " 'https://www.olx.in/item/3-bhk-big-gated-villa-for-rent-thammanam-vytila-iid-1762871035',\n",
       " 'https://www.olx.in/item/bachelers-pls-welcome-2-bhk-furnished-apartment-for-rent-maradu-iid-1762870610',\n",
       " 'https://www.olx.in/item/2bhk-flat-for-rent-8500-at-manjeshwara-highway-iid-1762870336',\n",
       " 'https://www.olx.in/item/5-bhk-residencial-or-commercial-purpose-house-for-rent-tripunithura-iid-1762870142',\n",
       " 'https://www.olx.in/item/3-bedroom-fully-furnished-house-at-vadavathoor-iid-1762870118',\n",
       " 'https://www.olx.in/item/2bds-2ba-1100ft2-independent-house-iid-1762869763',\n",
       " 'https://www.olx.in/item/rent-house-at-mannanam-iid-1762869617',\n",
       " 'https://www.olx.in/item/1-bhk-kakkanad-athani-near-infoprk-iid-1761418024',\n",
       " 'https://www.olx.in/item/furnished-2-bhk-flat-in-kozhikode-city-iid-1583594292',\n",
       " 'https://www.olx.in/item/landlinks-pearls-6d-iid-1760168020',\n",
       " 'https://www.olx.in/item/spacious-2bhk-ground-floor-close-to-palakkad-junction-iid-1762874196',\n",
       " 'https://www.olx.in/item/nedumbasery-near-airport-4-bhk-fully-furnished-house-for-rent-iid-1757469417',\n",
       " 'https://www.olx.in/item/near-thrikkanamangal-iid-1762873759',\n",
       " 'https://www.olx.in/item/3bhk-semi-furnished-flat-for-rent-at-kalathipady-kottayam-iid-1762873671',\n",
       " 'https://www.olx.in/item/1-bhk-apartment-iid-1762873218',\n",
       " 'https://www.olx.in/item/thiruvlla-nellad-commercial-residential-building-for-rental-iid-1762873066',\n",
       " 'https://www.olx.in/item/super-deal-fully-furnished-duplex-villa-at-the-heart-of-calicut--iid-1762873064',\n",
       " 'https://www.olx.in/item/2bhk-independent-house-lease-aluva-power-house-junction-iid-1762872902',\n",
       " 'https://www.olx.in/item/posh-area-4-bhk-gated-colony-villa-for-rent-tripunithura-near-by-iid-1762872874',\n",
       " 'https://www.olx.in/item/2-rooms-for-rent-near-muthoor-thiruvalla-iid-1762872644',\n",
       " 'https://www.olx.in/item/-iid-1762872608',\n",
       " 'https://www.olx.in/item/house-for-sale-at-aluvathottumugham-iid-1761384541',\n",
       " 'https://www.olx.in/item/bachelers-welcome-4-bhk-individual-home-for-rent-irumbhanam-iid-1762872573',\n",
       " 'https://www.olx.in/item/3-bhk-house-for-lease-at-kuzhivelippadi-infopark-5-km-iid-1762872559',\n",
       " 'https://www.olx.in/item/3-bhk-unfurnished-flar-for-rent-near-lulu-mall-calicut-iid-1762872507',\n",
       " 'https://www.olx.in/item/independent-house-muttada-vayalikada-main-road-side-iid-1762872444',\n",
       " 'https://www.olx.in/item/good-house-2-bhk-up-stair-for-rent-tripunithura-eroor-iid-1762872242',\n",
       " 'https://www.olx.in/item/house-for-rent-iid-1762793333',\n",
       " 'https://www.olx.in/item/1-bhk-fully-furnished-flat-for-rent-with-beautiful-view-iid-1762779534',\n",
       " 'https://www.olx.in/item/3-bhk-furnished-flat-for-rent-only-family-iid-1760544364',\n",
       " 'https://www.olx.in/item/2-bhk-furnished-flat-for-rent-near-chevayoor-calicut-iid-1762872025',\n",
       " 'https://www.olx.in/item/fully-furnished-new-house-for-rent-iid-1762871991',\n",
       " 'https://www.olx.in/item/executive-bacherlers-welcome-3-bhk-indipentent-home-rent-tripunithura-iid-1762871990',\n",
       " 'https://www.olx.in/item/marinedrive-3-bhk-kochi-mg-road-high-court-ernakulam-flat-rent-cochin-iid-1761141703',\n",
       " 'https://www.olx.in/item/kakkanad-chittethukara-rajigiri-college-near-iid-1762871378',\n",
       " 'https://www.olx.in/item/3-bhk-posh-furnished-apartment-for-rent-panambilly-nagar-iid-1762871343',\n",
       " 'https://www.olx.in/item/25-bhk-flat-surya-apartments-kannur-city-iid-1754057352',\n",
       " 'https://www.olx.in/item/for-rent-airport-jn-athani-odupura-old-indipendent-house-chengamanad-iid-1759052098',\n",
       " 'https://www.olx.in/item/for-rent-2bhk-2attached-bathroom-indipendent-house-at-edavanakad-vypin-iid-1759051341',\n",
       " 'https://www.olx.in/item/searching-for-1bhk-room-for-rent-for-small-family-iid-1762871112',\n",
       " 'https://www.olx.in/item/3-bhk-big-gated-villa-for-rent-thammanam-vytila-iid-1762871035',\n",
       " 'https://www.olx.in/item/bachelers-pls-welcome-2-bhk-furnished-apartment-for-rent-maradu-iid-1762870610',\n",
       " 'https://www.olx.in/item/2bhk-flat-for-rent-8500-at-manjeshwara-highway-iid-1762870336',\n",
       " 'https://www.olx.in/item/5-bhk-residencial-or-commercial-purpose-house-for-rent-tripunithura-iid-1762870142',\n",
       " 'https://www.olx.in/item/3-bedroom-fully-furnished-house-at-vadavathoor-iid-1762870118',\n",
       " 'https://www.olx.in/item/2bds-2ba-1100ft2-independent-house-iid-1762869763',\n",
       " 'https://www.olx.in/item/rent-house-at-mannanam-iid-1762869617',\n",
       " 'https://www.olx.in/item/1-bhk-kakkanad-athani-near-infoprk-iid-1761418024',\n",
       " 'https://www.olx.in/item/furnished-2-bhk-flat-in-kozhikode-city-iid-1583594292',\n",
       " 'https://www.olx.in/item/landlinks-pearls-6d-iid-1760168020',\n",
       " 'https://www.olx.in/item/spacious-2bhk-ground-floor-close-to-palakkad-junction-iid-1762874196',\n",
       " 'https://www.olx.in/item/nedumbasery-near-airport-4-bhk-fully-furnished-house-for-rent-iid-1757469417',\n",
       " 'https://www.olx.in/item/near-thrikkanamangal-iid-1762873759',\n",
       " 'https://www.olx.in/item/3bhk-semi-furnished-flat-for-rent-at-kalathipady-kottayam-iid-1762873671',\n",
       " 'https://www.olx.in/item/1-bhk-apartment-iid-1762873218',\n",
       " 'https://www.olx.in/item/thiruvlla-nellad-commercial-residential-building-for-rental-iid-1762873066',\n",
       " 'https://www.olx.in/item/super-deal-fully-furnished-duplex-villa-at-the-heart-of-calicut--iid-1762873064',\n",
       " 'https://www.olx.in/item/2bhk-independent-house-lease-aluva-power-house-junction-iid-1762872902',\n",
       " 'https://www.olx.in/item/posh-area-4-bhk-gated-colony-villa-for-rent-tripunithura-near-by-iid-1762872874',\n",
       " 'https://www.olx.in/item/2-rooms-for-rent-near-muthoor-thiruvalla-iid-1762872644',\n",
       " 'https://www.olx.in/item/-iid-1762872608',\n",
       " 'https://www.olx.in/item/house-for-sale-at-aluvathottumugham-iid-1761384541',\n",
       " 'https://www.olx.in/item/bachelers-welcome-4-bhk-individual-home-for-rent-irumbhanam-iid-1762872573',\n",
       " 'https://www.olx.in/item/3-bhk-house-for-lease-at-kuzhivelippadi-infopark-5-km-iid-1762872559',\n",
       " 'https://www.olx.in/item/3-bhk-unfurnished-flar-for-rent-near-lulu-mall-calicut-iid-1762872507',\n",
       " 'https://www.olx.in/item/independent-house-muttada-vayalikada-main-road-side-iid-1762872444',\n",
       " 'https://www.olx.in/item/good-house-2-bhk-up-stair-for-rent-tripunithura-eroor-iid-1762872242',\n",
       " 'https://www.olx.in/item/house-for-rent-iid-1762793333',\n",
       " 'https://www.olx.in/item/1-bhk-fully-furnished-flat-for-rent-with-beautiful-view-iid-1762779534',\n",
       " 'https://www.olx.in/item/3-bhk-furnished-flat-for-rent-only-family-iid-1760544364',\n",
       " 'https://www.olx.in/item/2-bhk-furnished-flat-for-rent-near-chevayoor-calicut-iid-1762872025',\n",
       " 'https://www.olx.in/item/fully-furnished-new-house-for-rent-iid-1762871991',\n",
       " 'https://www.olx.in/item/executive-bacherlers-welcome-3-bhk-indipentent-home-rent-tripunithura-iid-1762871990',\n",
       " 'https://www.olx.in/item/marinedrive-3-bhk-kochi-mg-road-high-court-ernakulam-flat-rent-cochin-iid-1761141703',\n",
       " 'https://www.olx.in/item/kakkanad-chittethukara-rajigiri-college-near-iid-1762871378',\n",
       " 'https://www.olx.in/item/3-bhk-posh-furnished-apartment-for-rent-panambilly-nagar-iid-1762871343',\n",
       " 'https://www.olx.in/item/25-bhk-flat-surya-apartments-kannur-city-iid-1754057352',\n",
       " 'https://www.olx.in/item/for-rent-airport-jn-athani-odupura-old-indipendent-house-chengamanad-iid-1759052098',\n",
       " 'https://www.olx.in/item/for-rent-2bhk-2attached-bathroom-indipendent-house-at-edavanakad-vypin-iid-1759051341',\n",
       " 'https://www.olx.in/item/searching-for-1bhk-room-for-rent-for-small-family-iid-1762871112',\n",
       " 'https://www.olx.in/item/3-bhk-big-gated-villa-for-rent-thammanam-vytila-iid-1762871035',\n",
       " 'https://www.olx.in/item/bachelers-pls-welcome-2-bhk-furnished-apartment-for-rent-maradu-iid-1762870610',\n",
       " 'https://www.olx.in/item/2bhk-flat-for-rent-8500-at-manjeshwara-highway-iid-1762870336',\n",
       " 'https://www.olx.in/item/5-bhk-residencial-or-commercial-purpose-house-for-rent-tripunithura-iid-1762870142',\n",
       " 'https://www.olx.in/item/3-bedroom-fully-furnished-house-at-vadavathoor-iid-1762870118',\n",
       " 'https://www.olx.in/item/2bds-2ba-1100ft2-independent-house-iid-1762869763',\n",
       " 'https://www.olx.in/item/rent-house-at-mannanam-iid-1762869617',\n",
       " 'https://www.olx.in/item/nanded-city-3-bhk-flat-on-rent-iid-1762732588',\n",
       " 'https://www.olx.in/item/newly-constructed-independent-ventilated-flat-with-parking-near-dmart-iid-1719364332',\n",
       " 'https://www.olx.in/item/new-2-bhk-flat-for-rent-in-kalpataru-paramount-kapurbavadi-thane-west-iid-1762757985',\n",
       " 'https://www.olx.in/item/2bhk-flat-need-2-girls-iid-1762874627',\n",
       " 'https://www.olx.in/item/1-rk-for-rent-iid-1762874272',\n",
       " 'https://www.olx.in/item/hinjewadi-phas-2-wipro-iid-1756581179',\n",
       " 'https://www.olx.in/item/1bhk-luxury-flat-with-beautiful-amenities-iid-1761385755',\n",
       " 'https://www.olx.in/item/mananmehera-row-house-near-ekta-green-valley-pathardi-phata-nashil-iid-1762873958',\n",
       " 'https://www.olx.in/item/2-rooms-available-for-single-person-iid-1762873565',\n",
       " 'https://www.olx.in/item/rooms-in-chawl-iid-1762873094',\n",
       " 'https://www.olx.in/item/semi-furnished-2-bhk-flat-available-on-rent-in-ulwe-iid-1761586076',\n",
       " 'https://www.olx.in/item/akshay-room-rent-iid-1762872481',\n",
       " 'https://www.olx.in/item/no-maintainance-iid-1762872151',\n",
       " 'https://www.olx.in/item/2-bhk-urgent-iid-1762871939',\n",
       " 'https://www.olx.in/item/2bhk-for-rent-wagholiepic-iid-1762871669',\n",
       " 'https://www.olx.in/item/dosti-nice-park-noori-blue-bell-nice-park-bharat-eco-heavy-deposit-ren-iid-1762871648',\n",
       " 'https://www.olx.in/item/1-bhk-for-rent-iid-1762871210',\n",
       " 'https://www.olx.in/item/1-bhk-flat-for-rent-master-bedroom-iid-1756505561',\n",
       " 'https://www.olx.in/item/i-bhk-flat-on-rent-in-tower-iid-1729891103',\n",
       " 'https://www.olx.in/item/single-occupancy-for-female-is-available-from-15th-march-iid-1762870870',\n",
       " 'https://www.olx.in/item/new-3-bhk-flat-for-rent-in-eagleridge-hiranandani-estate-thane-west-iid-1743649626',\n",
       " 'https://www.olx.in/item/3-bhk-available-for-rent-iid-1684147036',\n",
       " 'https://www.olx.in/item/25-bhk-flat-available-on-rent-in-nanded-city-kalashree-for-family-iid-1762429532',\n",
       " 'https://www.olx.in/item/1-rk-room-rent-par-dena-hai-iid-1762869883',\n",
       " 'https://www.olx.in/item/2bhk-full-furnished-flat-for-rent-iid-1762869847',\n",
       " 'https://www.olx.in/item/2-bhk-flat-for-rent-near-lendra-park-for-family-iid-1762869724',\n",
       " 'https://www.olx.in/item/2-bhk-flat-for-rent-in-ulwe-sector-18-iid-1756723931',\n",
       " 'https://www.olx.in/item/1-bhk-furnished-flat-on-rent-27-jp-iid-1709051301',\n",
       " 'https://www.olx.in/item/2bhk-semi-furnished-flat-on-rent-b4-from-apr-24-iid-1688244490',\n",
       " 'https://www.olx.in/item/2bhk-flat-for-rent-in-vasudev-nagar-iid-1762868593',\n",
       " 'https://www.olx.in/item/best-house-sea-view-iid-1762868538',\n",
       " 'https://www.olx.in/item/its-urgently-for-rent-iid-1745946723',\n",
       " 'https://www.olx.in/item/rent-in-urgent-nakshatra-greens-iid-1712374807',\n",
       " 'https://www.olx.in/item/rent-for-2bhk-sunteck-iid-1745947522',\n",
       " 'https://www.olx.in/item/rent-flat-in-nakshatra-pride-iid-1712447704',\n",
       " 'https://www.olx.in/item/looking-for-a-female-flatmate-in-3bhk-for-single-occupancy-room-iid-1762867971',\n",
       " 'https://www.olx.in/item/single-room-on-rent-near-dy-patil-medical-college-iid-1762867960',\n",
       " 'https://www.olx.in/item/urgent-rent-in-nakshatra-pride-iid-1712447871',\n",
       " 'https://www.olx.in/item/2bhk-rent-nakshatra-pride-iid-1712448071',\n",
       " 'https://www.olx.in/item/rent-falt-available-nakshatra-greens-iid-1712489611',\n",
       " 'https://www.olx.in/item/nanded-city-3-bhk-flat-on-rent-iid-1762732588',\n",
       " 'https://www.olx.in/item/newly-constructed-independent-ventilated-flat-with-parking-near-dmart-iid-1719364332',\n",
       " 'https://www.olx.in/item/new-2-bhk-flat-for-rent-in-kalpataru-paramount-kapurbavadi-thane-west-iid-1762757985',\n",
       " 'https://www.olx.in/item/2bhk-flat-need-2-girls-iid-1762874627',\n",
       " 'https://www.olx.in/item/1-rk-for-rent-iid-1762874272',\n",
       " 'https://www.olx.in/item/hinjewadi-phas-2-wipro-iid-1756581179',\n",
       " 'https://www.olx.in/item/1bhk-luxury-flat-with-beautiful-amenities-iid-1761385755',\n",
       " 'https://www.olx.in/item/mananmehera-row-house-near-ekta-green-valley-pathardi-phata-nashil-iid-1762873958',\n",
       " 'https://www.olx.in/item/2-rooms-available-for-single-person-iid-1762873565',\n",
       " 'https://www.olx.in/item/rooms-in-chawl-iid-1762873094',\n",
       " 'https://www.olx.in/item/semi-furnished-2-bhk-flat-available-on-rent-in-ulwe-iid-1761586076',\n",
       " 'https://www.olx.in/item/akshay-room-rent-iid-1762872481',\n",
       " 'https://www.olx.in/item/no-maintainance-iid-1762872151',\n",
       " 'https://www.olx.in/item/2-bhk-urgent-iid-1762871939',\n",
       " 'https://www.olx.in/item/2bhk-for-rent-wagholiepic-iid-1762871669',\n",
       " 'https://www.olx.in/item/dosti-nice-park-noori-blue-bell-nice-park-bharat-eco-heavy-deposit-ren-iid-1762871648',\n",
       " 'https://www.olx.in/item/1-bhk-for-rent-iid-1762871210',\n",
       " 'https://www.olx.in/item/1-bhk-flat-for-rent-master-bedroom-iid-1756505561',\n",
       " 'https://www.olx.in/item/i-bhk-flat-on-rent-in-tower-iid-1729891103',\n",
       " 'https://www.olx.in/item/single-occupancy-for-female-is-available-from-15th-march-iid-1762870870',\n",
       " 'https://www.olx.in/item/new-3-bhk-flat-for-rent-in-eagleridge-hiranandani-estate-thane-west-iid-1743649626',\n",
       " 'https://www.olx.in/item/3-bhk-available-for-rent-iid-1684147036',\n",
       " 'https://www.olx.in/item/25-bhk-flat-available-on-rent-in-nanded-city-kalashree-for-family-iid-1762429532',\n",
       " 'https://www.olx.in/item/1-rk-room-rent-par-dena-hai-iid-1762869883',\n",
       " 'https://www.olx.in/item/2bhk-full-furnished-flat-for-rent-iid-1762869847',\n",
       " 'https://www.olx.in/item/2-bhk-flat-for-rent-near-lendra-park-for-family-iid-1762869724',\n",
       " 'https://www.olx.in/item/2-bhk-flat-for-rent-in-ulwe-sector-18-iid-1756723931',\n",
       " 'https://www.olx.in/item/1-bhk-furnished-flat-on-rent-27-jp-iid-1709051301',\n",
       " 'https://www.olx.in/item/2bhk-semi-furnished-flat-on-rent-b4-from-apr-24-iid-1688244490',\n",
       " 'https://www.olx.in/item/2bhk-flat-for-rent-in-vasudev-nagar-iid-1762868593',\n",
       " 'https://www.olx.in/item/best-house-sea-view-iid-1762868538',\n",
       " 'https://www.olx.in/item/its-urgently-for-rent-iid-1745946723',\n",
       " 'https://www.olx.in/item/rent-in-urgent-nakshatra-greens-iid-1712374807',\n",
       " 'https://www.olx.in/item/rent-for-2bhk-sunteck-iid-1745947522',\n",
       " 'https://www.olx.in/item/rent-flat-in-nakshatra-pride-iid-1712447704',\n",
       " 'https://www.olx.in/item/looking-for-a-female-flatmate-in-3bhk-for-single-occupancy-room-iid-1762867971',\n",
       " 'https://www.olx.in/item/single-room-on-rent-near-dy-patil-medical-college-iid-1762867960',\n",
       " 'https://www.olx.in/item/urgent-rent-in-nakshatra-pride-iid-1712447871',\n",
       " 'https://www.olx.in/item/2bhk-rent-nakshatra-pride-iid-1712448071',\n",
       " 'https://www.olx.in/item/rent-falt-available-nakshatra-greens-iid-1712489611',\n",
       " 'https://www.olx.in/item/nanded-city-3-bhk-flat-on-rent-iid-1762732588',\n",
       " 'https://www.olx.in/item/newly-constructed-independent-ventilated-flat-with-parking-near-dmart-iid-1719364332',\n",
       " 'https://www.olx.in/item/new-2-bhk-flat-for-rent-in-kalpataru-paramount-kapurbavadi-thane-west-iid-1762757985',\n",
       " 'https://www.olx.in/item/2bhk-flat-need-2-girls-iid-1762874627',\n",
       " 'https://www.olx.in/item/1-rk-for-rent-iid-1762874272',\n",
       " 'https://www.olx.in/item/hinjewadi-phas-2-wipro-iid-1756581179',\n",
       " 'https://www.olx.in/item/1bhk-luxury-flat-with-beautiful-amenities-iid-1761385755',\n",
       " 'https://www.olx.in/item/mananmehera-row-house-near-ekta-green-valley-pathardi-phata-nashil-iid-1762873958',\n",
       " 'https://www.olx.in/item/2-rooms-available-for-single-person-iid-1762873565',\n",
       " 'https://www.olx.in/item/rooms-in-chawl-iid-1762873094',\n",
       " 'https://www.olx.in/item/semi-furnished-2-bhk-flat-available-on-rent-in-ulwe-iid-1761586076',\n",
       " 'https://www.olx.in/item/akshay-room-rent-iid-1762872481',\n",
       " 'https://www.olx.in/item/no-maintainance-iid-1762872151',\n",
       " 'https://www.olx.in/item/2-bhk-urgent-iid-1762871939',\n",
       " 'https://www.olx.in/item/2bhk-for-rent-wagholiepic-iid-1762871669',\n",
       " 'https://www.olx.in/item/dosti-nice-park-noori-blue-bell-nice-park-bharat-eco-heavy-deposit-ren-iid-1762871648',\n",
       " 'https://www.olx.in/item/1-bhk-for-rent-iid-1762871210',\n",
       " 'https://www.olx.in/item/1-bhk-flat-for-rent-master-bedroom-iid-1756505561',\n",
       " 'https://www.olx.in/item/i-bhk-flat-on-rent-in-tower-iid-1729891103',\n",
       " 'https://www.olx.in/item/single-occupancy-for-female-is-available-from-15th-march-iid-1762870870',\n",
       " 'https://www.olx.in/item/new-3-bhk-flat-for-rent-in-eagleridge-hiranandani-estate-thane-west-iid-1743649626',\n",
       " 'https://www.olx.in/item/3-bhk-available-for-rent-iid-1684147036',\n",
       " 'https://www.olx.in/item/25-bhk-flat-available-on-rent-in-nanded-city-kalashree-for-family-iid-1762429532',\n",
       " 'https://www.olx.in/item/1-rk-room-rent-par-dena-hai-iid-1762869883',\n",
       " 'https://www.olx.in/item/2bhk-full-furnished-flat-for-rent-iid-1762869847',\n",
       " 'https://www.olx.in/item/2-bhk-flat-for-rent-near-lendra-park-for-family-iid-1762869724',\n",
       " 'https://www.olx.in/item/2-bhk-flat-for-rent-in-ulwe-sector-18-iid-1756723931',\n",
       " 'https://www.olx.in/item/1-bhk-furnished-flat-on-rent-27-jp-iid-1709051301',\n",
       " 'https://www.olx.in/item/2bhk-semi-furnished-flat-on-rent-b4-from-apr-24-iid-1688244490',\n",
       " 'https://www.olx.in/item/2bhk-flat-for-rent-in-vasudev-nagar-iid-1762868593',\n",
       " 'https://www.olx.in/item/best-house-sea-view-iid-1762868538',\n",
       " 'https://www.olx.in/item/its-urgently-for-rent-iid-1745946723',\n",
       " 'https://www.olx.in/item/rent-in-urgent-nakshatra-greens-iid-1712374807',\n",
       " 'https://www.olx.in/item/rent-for-2bhk-sunteck-iid-1745947522',\n",
       " 'https://www.olx.in/item/rent-flat-in-nakshatra-pride-iid-1712447704',\n",
       " 'https://www.olx.in/item/looking-for-a-female-flatmate-in-3bhk-for-single-occupancy-room-iid-1762867971',\n",
       " 'https://www.olx.in/item/single-room-on-rent-near-dy-patil-medical-college-iid-1762867960',\n",
       " 'https://www.olx.in/item/urgent-rent-in-nakshatra-pride-iid-1712447871',\n",
       " 'https://www.olx.in/item/2bhk-rent-nakshatra-pride-iid-1712448071',\n",
       " 'https://www.olx.in/item/rent-falt-available-nakshatra-greens-iid-1712489611',\n",
       " 'https://www.olx.in/item/nanded-city-3-bhk-flat-on-rent-iid-1762732588',\n",
       " 'https://www.olx.in/item/newly-constructed-independent-ventilated-flat-with-parking-near-dmart-iid-1719364332',\n",
       " 'https://www.olx.in/item/new-2-bhk-flat-for-rent-in-kalpataru-paramount-kapurbavadi-thane-west-iid-1762757985',\n",
       " 'https://www.olx.in/item/2bhk-flat-need-2-girls-iid-1762874627',\n",
       " 'https://www.olx.in/item/1-rk-for-rent-iid-1762874272',\n",
       " 'https://www.olx.in/item/hinjewadi-phas-2-wipro-iid-1756581179',\n",
       " 'https://www.olx.in/item/1bhk-luxury-flat-with-beautiful-amenities-iid-1761385755',\n",
       " 'https://www.olx.in/item/mananmehera-row-house-near-ekta-green-valley-pathardi-phata-nashil-iid-1762873958',\n",
       " 'https://www.olx.in/item/2-rooms-available-for-single-person-iid-1762873565',\n",
       " 'https://www.olx.in/item/rooms-in-chawl-iid-1762873094',\n",
       " 'https://www.olx.in/item/semi-furnished-2-bhk-flat-available-on-rent-in-ulwe-iid-1761586076',\n",
       " 'https://www.olx.in/item/akshay-room-rent-iid-1762872481',\n",
       " 'https://www.olx.in/item/no-maintainance-iid-1762872151',\n",
       " 'https://www.olx.in/item/2-bhk-urgent-iid-1762871939',\n",
       " 'https://www.olx.in/item/2bhk-for-rent-wagholiepic-iid-1762871669',\n",
       " 'https://www.olx.in/item/dosti-nice-park-noori-blue-bell-nice-park-bharat-eco-heavy-deposit-ren-iid-1762871648',\n",
       " 'https://www.olx.in/item/1-bhk-for-rent-iid-1762871210',\n",
       " 'https://www.olx.in/item/1-bhk-flat-for-rent-master-bedroom-iid-1756505561',\n",
       " 'https://www.olx.in/item/i-bhk-flat-on-rent-in-tower-iid-1729891103',\n",
       " 'https://www.olx.in/item/single-occupancy-for-female-is-available-from-15th-march-iid-1762870870',\n",
       " 'https://www.olx.in/item/new-3-bhk-flat-for-rent-in-eagleridge-hiranandani-estate-thane-west-iid-1743649626',\n",
       " 'https://www.olx.in/item/3-bhk-available-for-rent-iid-1684147036',\n",
       " 'https://www.olx.in/item/25-bhk-flat-available-on-rent-in-nanded-city-kalashree-for-family-iid-1762429532',\n",
       " 'https://www.olx.in/item/1-rk-room-rent-par-dena-hai-iid-1762869883',\n",
       " 'https://www.olx.in/item/2bhk-full-furnished-flat-for-rent-iid-1762869847',\n",
       " 'https://www.olx.in/item/2-bhk-flat-for-rent-near-lendra-park-for-family-iid-1762869724',\n",
       " 'https://www.olx.in/item/2-bhk-flat-for-rent-in-ulwe-sector-18-iid-1756723931',\n",
       " 'https://www.olx.in/item/1-bhk-furnished-flat-on-rent-27-jp-iid-1709051301',\n",
       " 'https://www.olx.in/item/2bhk-semi-furnished-flat-on-rent-b4-from-apr-24-iid-1688244490',\n",
       " 'https://www.olx.in/item/2bhk-flat-for-rent-in-vasudev-nagar-iid-1762868593',\n",
       " 'https://www.olx.in/item/best-house-sea-view-iid-1762868538',\n",
       " 'https://www.olx.in/item/its-urgently-for-rent-iid-1745946723',\n",
       " 'https://www.olx.in/item/rent-in-urgent-nakshatra-greens-iid-1712374807',\n",
       " 'https://www.olx.in/item/rent-for-2bhk-sunteck-iid-1745947522',\n",
       " 'https://www.olx.in/item/rent-flat-in-nakshatra-pride-iid-1712447704',\n",
       " 'https://www.olx.in/item/looking-for-a-female-flatmate-in-3bhk-for-single-occupancy-room-iid-1762867971',\n",
       " 'https://www.olx.in/item/single-room-on-rent-near-dy-patil-medical-college-iid-1762867960',\n",
       " 'https://www.olx.in/item/urgent-rent-in-nakshatra-pride-iid-1712447871',\n",
       " 'https://www.olx.in/item/2bhk-rent-nakshatra-pride-iid-1712448071',\n",
       " 'https://www.olx.in/item/rent-falt-available-nakshatra-greens-iid-1712489611',\n",
       " 'https://www.olx.in/item/nanded-city-3-bhk-flat-on-rent-iid-1762732588',\n",
       " 'https://www.olx.in/item/newly-constructed-independent-ventilated-flat-with-parking-near-dmart-iid-1719364332',\n",
       " 'https://www.olx.in/item/new-2-bhk-flat-for-rent-in-kalpataru-paramount-kapurbavadi-thane-west-iid-1762757985',\n",
       " 'https://www.olx.in/item/2bhk-flat-need-2-girls-iid-1762874627',\n",
       " 'https://www.olx.in/item/1-rk-for-rent-iid-1762874272',\n",
       " 'https://www.olx.in/item/hinjewadi-phas-2-wipro-iid-1756581179',\n",
       " 'https://www.olx.in/item/1bhk-luxury-flat-with-beautiful-amenities-iid-1761385755',\n",
       " 'https://www.olx.in/item/mananmehera-row-house-near-ekta-green-valley-pathardi-phata-nashil-iid-1762873958',\n",
       " 'https://www.olx.in/item/2-rooms-available-for-single-person-iid-1762873565',\n",
       " 'https://www.olx.in/item/rooms-in-chawl-iid-1762873094',\n",
       " 'https://www.olx.in/item/semi-furnished-2-bhk-flat-available-on-rent-in-ulwe-iid-1761586076',\n",
       " 'https://www.olx.in/item/akshay-room-rent-iid-1762872481',\n",
       " 'https://www.olx.in/item/no-maintainance-iid-1762872151',\n",
       " 'https://www.olx.in/item/2-bhk-urgent-iid-1762871939',\n",
       " 'https://www.olx.in/item/2bhk-for-rent-wagholiepic-iid-1762871669',\n",
       " 'https://www.olx.in/item/dosti-nice-park-noori-blue-bell-nice-park-bharat-eco-heavy-deposit-ren-iid-1762871648',\n",
       " 'https://www.olx.in/item/1-bhk-for-rent-iid-1762871210',\n",
       " 'https://www.olx.in/item/1-bhk-flat-for-rent-master-bedroom-iid-1756505561',\n",
       " 'https://www.olx.in/item/i-bhk-flat-on-rent-in-tower-iid-1729891103',\n",
       " 'https://www.olx.in/item/single-occupancy-for-female-is-available-from-15th-march-iid-1762870870',\n",
       " 'https://www.olx.in/item/new-3-bhk-flat-for-rent-in-eagleridge-hiranandani-estate-thane-west-iid-1743649626',\n",
       " 'https://www.olx.in/item/3-bhk-available-for-rent-iid-1684147036',\n",
       " 'https://www.olx.in/item/25-bhk-flat-available-on-rent-in-nanded-city-kalashree-for-family-iid-1762429532',\n",
       " 'https://www.olx.in/item/1-rk-room-rent-par-dena-hai-iid-1762869883',\n",
       " 'https://www.olx.in/item/2bhk-full-furnished-flat-for-rent-iid-1762869847',\n",
       " 'https://www.olx.in/item/2-bhk-flat-for-rent-near-lendra-park-for-family-iid-1762869724',\n",
       " 'https://www.olx.in/item/2-bhk-flat-for-rent-in-ulwe-sector-18-iid-1756723931',\n",
       " 'https://www.olx.in/item/1-bhk-furnished-flat-on-rent-27-jp-iid-1709051301',\n",
       " 'https://www.olx.in/item/2bhk-semi-furnished-flat-on-rent-b4-from-apr-24-iid-1688244490',\n",
       " 'https://www.olx.in/item/2bhk-flat-for-rent-in-vasudev-nagar-iid-1762868593',\n",
       " 'https://www.olx.in/item/best-house-sea-view-iid-1762868538',\n",
       " 'https://www.olx.in/item/its-urgently-for-rent-iid-1745946723',\n",
       " 'https://www.olx.in/item/rent-in-urgent-nakshatra-greens-iid-1712374807',\n",
       " 'https://www.olx.in/item/rent-for-2bhk-sunteck-iid-1745947522',\n",
       " 'https://www.olx.in/item/rent-flat-in-nakshatra-pride-iid-1712447704',\n",
       " 'https://www.olx.in/item/looking-for-a-female-flatmate-in-3bhk-for-single-occupancy-room-iid-1762867971',\n",
       " 'https://www.olx.in/item/single-room-on-rent-near-dy-patil-medical-college-iid-1762867960',\n",
       " 'https://www.olx.in/item/urgent-rent-in-nakshatra-pride-iid-1712447871',\n",
       " 'https://www.olx.in/item/2bhk-rent-nakshatra-pride-iid-1712448071',\n",
       " 'https://www.olx.in/item/rent-falt-available-nakshatra-greens-iid-1712489611',\n",
       " 'https://www.olx.in/item/nanded-city-3-bhk-flat-on-rent-iid-1762732588',\n",
       " 'https://www.olx.in/item/newly-constructed-independent-ventilated-flat-with-parking-near-dmart-iid-1719364332',\n",
       " 'https://www.olx.in/item/new-2-bhk-flat-for-rent-in-kalpataru-paramount-kapurbavadi-thane-west-iid-1762757985',\n",
       " 'https://www.olx.in/item/2bhk-flat-need-2-girls-iid-1762874627',\n",
       " 'https://www.olx.in/item/1-rk-for-rent-iid-1762874272',\n",
       " 'https://www.olx.in/item/hinjewadi-phas-2-wipro-iid-1756581179',\n",
       " 'https://www.olx.in/item/1bhk-luxury-flat-with-beautiful-amenities-iid-1761385755',\n",
       " 'https://www.olx.in/item/mananmehera-row-house-near-ekta-green-valley-pathardi-phata-nashil-iid-1762873958',\n",
       " 'https://www.olx.in/item/2-rooms-available-for-single-person-iid-1762873565',\n",
       " 'https://www.olx.in/item/rooms-in-chawl-iid-1762873094',\n",
       " 'https://www.olx.in/item/semi-furnished-2-bhk-flat-available-on-rent-in-ulwe-iid-1761586076',\n",
       " 'https://www.olx.in/item/akshay-room-rent-iid-1762872481',\n",
       " 'https://www.olx.in/item/no-maintainance-iid-1762872151',\n",
       " 'https://www.olx.in/item/2-bhk-urgent-iid-1762871939',\n",
       " 'https://www.olx.in/item/2bhk-for-rent-wagholiepic-iid-1762871669',\n",
       " 'https://www.olx.in/item/dosti-nice-park-noori-blue-bell-nice-park-bharat-eco-heavy-deposit-ren-iid-1762871648',\n",
       " 'https://www.olx.in/item/1-bhk-for-rent-iid-1762871210',\n",
       " 'https://www.olx.in/item/1-bhk-flat-for-rent-master-bedroom-iid-1756505561',\n",
       " 'https://www.olx.in/item/i-bhk-flat-on-rent-in-tower-iid-1729891103',\n",
       " 'https://www.olx.in/item/single-occupancy-for-female-is-available-from-15th-march-iid-1762870870',\n",
       " 'https://www.olx.in/item/new-3-bhk-flat-for-rent-in-eagleridge-hiranandani-estate-thane-west-iid-1743649626',\n",
       " 'https://www.olx.in/item/3-bhk-available-for-rent-iid-1684147036',\n",
       " 'https://www.olx.in/item/25-bhk-flat-available-on-rent-in-nanded-city-kalashree-for-family-iid-1762429532',\n",
       " 'https://www.olx.in/item/1-rk-room-rent-par-dena-hai-iid-1762869883',\n",
       " 'https://www.olx.in/item/2bhk-full-furnished-flat-for-rent-iid-1762869847',\n",
       " 'https://www.olx.in/item/2-bhk-flat-for-rent-near-lendra-park-for-family-iid-1762869724',\n",
       " 'https://www.olx.in/item/2-bhk-flat-for-rent-in-ulwe-sector-18-iid-1756723931',\n",
       " 'https://www.olx.in/item/1-bhk-furnished-flat-on-rent-27-jp-iid-1709051301',\n",
       " 'https://www.olx.in/item/2bhk-semi-furnished-flat-on-rent-b4-from-apr-24-iid-1688244490',\n",
       " 'https://www.olx.in/item/2bhk-flat-for-rent-in-vasudev-nagar-iid-1762868593',\n",
       " 'https://www.olx.in/item/best-house-sea-view-iid-1762868538',\n",
       " 'https://www.olx.in/item/its-urgently-for-rent-iid-1745946723',\n",
       " 'https://www.olx.in/item/rent-in-urgent-nakshatra-greens-iid-1712374807',\n",
       " 'https://www.olx.in/item/rent-for-2bhk-sunteck-iid-1745947522',\n",
       " 'https://www.olx.in/item/rent-flat-in-nakshatra-pride-iid-1712447704',\n",
       " 'https://www.olx.in/item/looking-for-a-female-flatmate-in-3bhk-for-single-occupancy-room-iid-1762867971',\n",
       " 'https://www.olx.in/item/single-room-on-rent-near-dy-patil-medical-college-iid-1762867960',\n",
       " 'https://www.olx.in/item/urgent-rent-in-nakshatra-pride-iid-1712447871',\n",
       " 'https://www.olx.in/item/2bhk-rent-nakshatra-pride-iid-1712448071',\n",
       " 'https://www.olx.in/item/rent-falt-available-nakshatra-greens-iid-1712489611',\n",
       " 'https://www.olx.in/item/nanded-city-3-bhk-flat-on-rent-iid-1762732588',\n",
       " 'https://www.olx.in/item/newly-constructed-independent-ventilated-flat-with-parking-near-dmart-iid-1719364332',\n",
       " 'https://www.olx.in/item/new-2-bhk-flat-for-rent-in-kalpataru-paramount-kapurbavadi-thane-west-iid-1762757985',\n",
       " 'https://www.olx.in/item/2bhk-flat-need-2-girls-iid-1762874627',\n",
       " 'https://www.olx.in/item/1-rk-for-rent-iid-1762874272',\n",
       " 'https://www.olx.in/item/hinjewadi-phas-2-wipro-iid-1756581179',\n",
       " 'https://www.olx.in/item/1bhk-luxury-flat-with-beautiful-amenities-iid-1761385755',\n",
       " 'https://www.olx.in/item/mananmehera-row-house-near-ekta-green-valley-pathardi-phata-nashil-iid-1762873958',\n",
       " 'https://www.olx.in/item/2-rooms-available-for-single-person-iid-1762873565',\n",
       " 'https://www.olx.in/item/rooms-in-chawl-iid-1762873094',\n",
       " 'https://www.olx.in/item/semi-furnished-2-bhk-flat-available-on-rent-in-ulwe-iid-1761586076',\n",
       " 'https://www.olx.in/item/akshay-room-rent-iid-1762872481',\n",
       " 'https://www.olx.in/item/no-maintainance-iid-1762872151',\n",
       " 'https://www.olx.in/item/2-bhk-urgent-iid-1762871939',\n",
       " 'https://www.olx.in/item/2bhk-for-rent-wagholiepic-iid-1762871669',\n",
       " 'https://www.olx.in/item/dosti-nice-park-noori-blue-bell-nice-park-bharat-eco-heavy-deposit-ren-iid-1762871648',\n",
       " 'https://www.olx.in/item/1-bhk-for-rent-iid-1762871210',\n",
       " 'https://www.olx.in/item/1-bhk-flat-for-rent-master-bedroom-iid-1756505561',\n",
       " 'https://www.olx.in/item/i-bhk-flat-on-rent-in-tower-iid-1729891103',\n",
       " 'https://www.olx.in/item/single-occupancy-for-female-is-available-from-15th-march-iid-1762870870',\n",
       " 'https://www.olx.in/item/new-3-bhk-flat-for-rent-in-eagleridge-hiranandani-estate-thane-west-iid-1743649626',\n",
       " 'https://www.olx.in/item/3-bhk-available-for-rent-iid-1684147036',\n",
       " 'https://www.olx.in/item/25-bhk-flat-available-on-rent-in-nanded-city-kalashree-for-family-iid-1762429532',\n",
       " 'https://www.olx.in/item/1-rk-room-rent-par-dena-hai-iid-1762869883',\n",
       " 'https://www.olx.in/item/2bhk-full-furnished-flat-for-rent-iid-1762869847',\n",
       " 'https://www.olx.in/item/2-bhk-flat-for-rent-near-lendra-park-for-family-iid-1762869724',\n",
       " 'https://www.olx.in/item/2-bhk-flat-for-rent-in-ulwe-sector-18-iid-1756723931',\n",
       " 'https://www.olx.in/item/1-bhk-furnished-flat-on-rent-27-jp-iid-1709051301',\n",
       " 'https://www.olx.in/item/2bhk-semi-furnished-flat-on-rent-b4-from-apr-24-iid-1688244490',\n",
       " 'https://www.olx.in/item/2bhk-flat-for-rent-in-vasudev-nagar-iid-1762868593',\n",
       " 'https://www.olx.in/item/best-house-sea-view-iid-1762868538',\n",
       " 'https://www.olx.in/item/its-urgently-for-rent-iid-1745946723',\n",
       " 'https://www.olx.in/item/rent-in-urgent-nakshatra-greens-iid-1712374807',\n",
       " 'https://www.olx.in/item/rent-for-2bhk-sunteck-iid-1745947522',\n",
       " 'https://www.olx.in/item/rent-flat-in-nakshatra-pride-iid-1712447704',\n",
       " 'https://www.olx.in/item/looking-for-a-female-flatmate-in-3bhk-for-single-occupancy-room-iid-1762867971',\n",
       " 'https://www.olx.in/item/single-room-on-rent-near-dy-patil-medical-college-iid-1762867960',\n",
       " 'https://www.olx.in/item/urgent-rent-in-nakshatra-pride-iid-1712447871',\n",
       " 'https://www.olx.in/item/2bhk-rent-nakshatra-pride-iid-1712448071',\n",
       " 'https://www.olx.in/item/rent-falt-available-nakshatra-greens-iid-1712489611',\n",
       " 'https://www.olx.in/item/house-for-rent-iid-1762764381',\n",
       " 'https://www.olx.in/item/2-bhk-independent--iid-1762424355',\n",
       " 'https://www.olx.in/item/2-bhk-room-set-available-for-family-rent-purpose-iid-1761904954',\n",
       " 'https://www.olx.in/item/rent-2-room-sat-rajendra-nagar-colony-iid-1762874939',\n",
       " 'https://www.olx.in/item/best-room-big-iid-1762874780',\n",
       " 'https://www.olx.in/item/rent-2bhk-house-rajendra-nagar-colony-iid-1762874775',\n",
       " 'https://www.olx.in/item/for-rent-in-lucknow-gomti-nagar--iid-1762874451',\n",
       " 'https://www.olx.in/item/independent-house-for-rent-iid-1762874082',\n",
       " 'https://www.olx.in/item/single-room-rent-iid-1762873821',\n",
       " 'https://www.olx.in/item/light-extra-iid-1749385997',\n",
       " 'https://www.olx.in/item/good-and-silent-environment-iid-1762873055',\n",
       " 'https://www.olx.in/item/fully-furnished-apartment-iid-1762872939',\n",
       " 'https://www.olx.in/item/i-p-colony-amara-bypass-opposite-bank-of-india-amra-khaira-chak-iid-1762872508',\n",
       " 'https://www.olx.in/item/only-single-person-required-salaried-person-iid-1762872289',\n",
       " 'https://www.olx.in/item/2room-kitchen-bathroom-for-rent-vishwakarma-nagar-chitaipur-iid-1762872251',\n",
       " 'https://www.olx.in/item/3bhk-for-rent-iid-1762872249',\n",
       " 'https://www.olx.in/item/its-a-2-bhk-flat-need-roommate-to-share-spaces-iid-1762871638',\n",
       " 'https://www.olx.in/item/house-for-rent-at-vayu-vihar-road-near-railways-crossing-agra-iid-1762871525',\n",
       " 'https://www.olx.in/item/awas-vikas-colony-independet-house-iid-1762871463',\n",
       " 'https://www.olx.in/item/2-room-1-balcony-1-kicten-lbw-iid-1762871355',\n",
       " 'https://www.olx.in/item/flat-for-rent-iid-1762814819',\n",
       " 'https://www.olx.in/item/2-bhk-on-rent-in-sec-20-iid-1760641264',\n",
       " 'https://www.olx.in/item/separate-furnished-ac-non-ac-1234-room-set-iid-1681464925',\n",
       " 'https://www.olx.in/item/two-room-set-one-room-set-available-iid-1762871221',\n",
       " 'https://www.olx.in/item/bichhiya-colony-iid-1762870548',\n",
       " 'https://www.olx.in/item/double-story-house-available-ground-floor-iid-1762870374',\n",
       " 'https://www.olx.in/item/room-for-rent-iid-1762869742',\n",
       " 'https://www.olx.in/item/4-bhk-on-rent-a9-sarvodya-colony-iid-1757834383',\n",
       " 'https://www.olx.in/item/hall-available-for-rent-iid-1762869411',\n",
       " 'https://www.olx.in/item/1bhk-fully-furnished-first-floor-with-all-amenities-iid-1762869285',\n",
       " 'https://www.olx.in/item/gautam-vihar-colony-meera-pur-basahi-varansi-iid-1762868396',\n",
       " 'https://www.olx.in/item/3-bhk-with-master-bedroom-two-bathroom-common-space-green-environment-iid-1762868813',\n",
       " 'https://www.olx.in/item/for-rent-1st-floor-at-eldeco-udyan-2-raibarelly-road-iid-1762868614',\n",
       " 'https://www.olx.in/item/sweet-home-iid-1762868421',\n",
       " 'https://www.olx.in/item/1-bhk-semi-furnished-flat-with-balcony-iid-1762867741',\n",
       " 'https://www.olx.in/item/2-and-3-bhk-separate-toilet-bathroom-and-kitchen-well-maintained-iid-1762866750',\n",
       " 'https://www.olx.in/item/1-room-with-attached-kitchen-and-bathroom-in-mahmurganj-iid-1762866758',\n",
       " 'https://www.olx.in/item/near-by-ek-murti-iid-1760678204',\n",
       " 'https://www.olx.in/item/near-by-4-murti-iid-1760677825',\n",
       " 'https://www.olx.in/item/teach-zone-4-iid-1760677637',\n",
       " 'https://www.olx.in/item/house-for-rent-iid-1762764381',\n",
       " 'https://www.olx.in/item/2-bhk-independent--iid-1762424355',\n",
       " 'https://www.olx.in/item/2-bhk-room-set-available-for-family-rent-purpose-iid-1761904954',\n",
       " 'https://www.olx.in/item/rent-2-room-sat-rajendra-nagar-colony-iid-1762874939',\n",
       " 'https://www.olx.in/item/best-room-big-iid-1762874780',\n",
       " 'https://www.olx.in/item/rent-2bhk-house-rajendra-nagar-colony-iid-1762874775',\n",
       " 'https://www.olx.in/item/for-rent-in-lucknow-gomti-nagar--iid-1762874451',\n",
       " 'https://www.olx.in/item/independent-house-for-rent-iid-1762874082',\n",
       " 'https://www.olx.in/item/single-room-rent-iid-1762873821',\n",
       " 'https://www.olx.in/item/light-extra-iid-1749385997',\n",
       " 'https://www.olx.in/item/good-and-silent-environment-iid-1762873055',\n",
       " 'https://www.olx.in/item/fully-furnished-apartment-iid-1762872939',\n",
       " 'https://www.olx.in/item/i-p-colony-amara-bypass-opposite-bank-of-india-amra-khaira-chak-iid-1762872508',\n",
       " 'https://www.olx.in/item/only-single-person-required-salaried-person-iid-1762872289',\n",
       " 'https://www.olx.in/item/2room-kitchen-bathroom-for-rent-vishwakarma-nagar-chitaipur-iid-1762872251',\n",
       " 'https://www.olx.in/item/3bhk-for-rent-iid-1762872249',\n",
       " 'https://www.olx.in/item/its-a-2-bhk-flat-need-roommate-to-share-spaces-iid-1762871638',\n",
       " 'https://www.olx.in/item/house-for-rent-at-vayu-vihar-road-near-railways-crossing-agra-iid-1762871525',\n",
       " 'https://www.olx.in/item/awas-vikas-colony-independet-house-iid-1762871463',\n",
       " 'https://www.olx.in/item/2-room-1-balcony-1-kicten-lbw-iid-1762871355',\n",
       " 'https://www.olx.in/item/flat-for-rent-iid-1762814819',\n",
       " 'https://www.olx.in/item/2-bhk-on-rent-in-sec-20-iid-1760641264',\n",
       " 'https://www.olx.in/item/separate-furnished-ac-non-ac-1234-room-set-iid-1681464925',\n",
       " 'https://www.olx.in/item/two-room-set-one-room-set-available-iid-1762871221',\n",
       " 'https://www.olx.in/item/bichhiya-colony-iid-1762870548',\n",
       " 'https://www.olx.in/item/double-story-house-available-ground-floor-iid-1762870374',\n",
       " 'https://www.olx.in/item/room-for-rent-iid-1762869742',\n",
       " 'https://www.olx.in/item/4-bhk-on-rent-a9-sarvodya-colony-iid-1757834383',\n",
       " 'https://www.olx.in/item/hall-available-for-rent-iid-1762869411',\n",
       " 'https://www.olx.in/item/1bhk-fully-furnished-first-floor-with-all-amenities-iid-1762869285',\n",
       " 'https://www.olx.in/item/gautam-vihar-colony-meera-pur-basahi-varansi-iid-1762868396',\n",
       " 'https://www.olx.in/item/3-bhk-with-master-bedroom-two-bathroom-common-space-green-environment-iid-1762868813',\n",
       " 'https://www.olx.in/item/for-rent-1st-floor-at-eldeco-udyan-2-raibarelly-road-iid-1762868614',\n",
       " 'https://www.olx.in/item/sweet-home-iid-1762868421',\n",
       " 'https://www.olx.in/item/1-bhk-semi-furnished-flat-with-balcony-iid-1762867741',\n",
       " 'https://www.olx.in/item/2-and-3-bhk-separate-toilet-bathroom-and-kitchen-well-maintained-iid-1762866750',\n",
       " 'https://www.olx.in/item/1-room-with-attached-kitchen-and-bathroom-in-mahmurganj-iid-1762866758',\n",
       " 'https://www.olx.in/item/near-by-ek-murti-iid-1760678204',\n",
       " 'https://www.olx.in/item/near-by-4-murti-iid-1760677825',\n",
       " 'https://www.olx.in/item/teach-zone-4-iid-1760677637',\n",
       " 'https://www.olx.in/item/house-for-rent-iid-1762764381',\n",
       " 'https://www.olx.in/item/2-bhk-independent--iid-1762424355',\n",
       " 'https://www.olx.in/item/2-bhk-room-set-available-for-family-rent-purpose-iid-1761904954',\n",
       " 'https://www.olx.in/item/rent-2-room-sat-rajendra-nagar-colony-iid-1762874939',\n",
       " 'https://www.olx.in/item/best-room-big-iid-1762874780',\n",
       " 'https://www.olx.in/item/rent-2bhk-house-rajendra-nagar-colony-iid-1762874775',\n",
       " 'https://www.olx.in/item/for-rent-in-lucknow-gomti-nagar--iid-1762874451',\n",
       " 'https://www.olx.in/item/independent-house-for-rent-iid-1762874082',\n",
       " 'https://www.olx.in/item/single-room-rent-iid-1762873821',\n",
       " 'https://www.olx.in/item/light-extra-iid-1749385997',\n",
       " 'https://www.olx.in/item/good-and-silent-environment-iid-1762873055',\n",
       " 'https://www.olx.in/item/fully-furnished-apartment-iid-1762872939',\n",
       " 'https://www.olx.in/item/i-p-colony-amara-bypass-opposite-bank-of-india-amra-khaira-chak-iid-1762872508',\n",
       " 'https://www.olx.in/item/only-single-person-required-salaried-person-iid-1762872289',\n",
       " 'https://www.olx.in/item/2room-kitchen-bathroom-for-rent-vishwakarma-nagar-chitaipur-iid-1762872251',\n",
       " 'https://www.olx.in/item/3bhk-for-rent-iid-1762872249',\n",
       " 'https://www.olx.in/item/its-a-2-bhk-flat-need-roommate-to-share-spaces-iid-1762871638',\n",
       " 'https://www.olx.in/item/house-for-rent-at-vayu-vihar-road-near-railways-crossing-agra-iid-1762871525',\n",
       " 'https://www.olx.in/item/awas-vikas-colony-independet-house-iid-1762871463',\n",
       " 'https://www.olx.in/item/2-room-1-balcony-1-kicten-lbw-iid-1762871355',\n",
       " 'https://www.olx.in/item/flat-for-rent-iid-1762814819',\n",
       " 'https://www.olx.in/item/2-bhk-on-rent-in-sec-20-iid-1760641264',\n",
       " 'https://www.olx.in/item/separate-furnished-ac-non-ac-1234-room-set-iid-1681464925',\n",
       " 'https://www.olx.in/item/two-room-set-one-room-set-available-iid-1762871221',\n",
       " 'https://www.olx.in/item/bichhiya-colony-iid-1762870548',\n",
       " 'https://www.olx.in/item/double-story-house-available-ground-floor-iid-1762870374',\n",
       " 'https://www.olx.in/item/room-for-rent-iid-1762869742',\n",
       " 'https://www.olx.in/item/4-bhk-on-rent-a9-sarvodya-colony-iid-1757834383',\n",
       " 'https://www.olx.in/item/hall-available-for-rent-iid-1762869411',\n",
       " 'https://www.olx.in/item/1bhk-fully-furnished-first-floor-with-all-amenities-iid-1762869285',\n",
       " 'https://www.olx.in/item/gautam-vihar-colony-meera-pur-basahi-varansi-iid-1762868396',\n",
       " 'https://www.olx.in/item/3-bhk-with-master-bedroom-two-bathroom-common-space-green-environment-iid-1762868813',\n",
       " 'https://www.olx.in/item/for-rent-1st-floor-at-eldeco-udyan-2-raibarelly-road-iid-1762868614',\n",
       " 'https://www.olx.in/item/sweet-home-iid-1762868421',\n",
       " 'https://www.olx.in/item/1-bhk-semi-furnished-flat-with-balcony-iid-1762867741',\n",
       " 'https://www.olx.in/item/2-and-3-bhk-separate-toilet-bathroom-and-kitchen-well-maintained-iid-1762866750',\n",
       " 'https://www.olx.in/item/1-room-with-attached-kitchen-and-bathroom-in-mahmurganj-iid-1762866758',\n",
       " 'https://www.olx.in/item/near-by-ek-murti-iid-1760678204',\n",
       " 'https://www.olx.in/item/near-by-4-murti-iid-1760677825',\n",
       " 'https://www.olx.in/item/teach-zone-4-iid-1760677637',\n",
       " 'https://www.olx.in/item/house-for-rent-iid-1762764381',\n",
       " 'https://www.olx.in/item/2-bhk-independent--iid-1762424355',\n",
       " 'https://www.olx.in/item/2-bhk-room-set-available-for-family-rent-purpose-iid-1761904954',\n",
       " 'https://www.olx.in/item/rent-2-room-sat-rajendra-nagar-colony-iid-1762874939',\n",
       " 'https://www.olx.in/item/best-room-big-iid-1762874780',\n",
       " 'https://www.olx.in/item/rent-2bhk-house-rajendra-nagar-colony-iid-1762874775',\n",
       " 'https://www.olx.in/item/for-rent-in-lucknow-gomti-nagar--iid-1762874451',\n",
       " 'https://www.olx.in/item/independent-house-for-rent-iid-1762874082',\n",
       " 'https://www.olx.in/item/single-room-rent-iid-1762873821',\n",
       " 'https://www.olx.in/item/light-extra-iid-1749385997',\n",
       " 'https://www.olx.in/item/good-and-silent-environment-iid-1762873055',\n",
       " 'https://www.olx.in/item/fully-furnished-apartment-iid-1762872939',\n",
       " 'https://www.olx.in/item/i-p-colony-amara-bypass-opposite-bank-of-india-amra-khaira-chak-iid-1762872508',\n",
       " 'https://www.olx.in/item/only-single-person-required-salaried-person-iid-1762872289',\n",
       " 'https://www.olx.in/item/2room-kitchen-bathroom-for-rent-vishwakarma-nagar-chitaipur-iid-1762872251',\n",
       " 'https://www.olx.in/item/3bhk-for-rent-iid-1762872249',\n",
       " 'https://www.olx.in/item/its-a-2-bhk-flat-need-roommate-to-share-spaces-iid-1762871638',\n",
       " 'https://www.olx.in/item/house-for-rent-at-vayu-vihar-road-near-railways-crossing-agra-iid-1762871525',\n",
       " 'https://www.olx.in/item/awas-vikas-colony-independet-house-iid-1762871463',\n",
       " 'https://www.olx.in/item/2-room-1-balcony-1-kicten-lbw-iid-1762871355',\n",
       " 'https://www.olx.in/item/flat-for-rent-iid-1762814819',\n",
       " 'https://www.olx.in/item/2-bhk-on-rent-in-sec-20-iid-1760641264',\n",
       " 'https://www.olx.in/item/separate-furnished-ac-non-ac-1234-room-set-iid-1681464925',\n",
       " 'https://www.olx.in/item/two-room-set-one-room-set-available-iid-1762871221',\n",
       " 'https://www.olx.in/item/bichhiya-colony-iid-1762870548',\n",
       " 'https://www.olx.in/item/double-story-house-available-ground-floor-iid-1762870374',\n",
       " 'https://www.olx.in/item/room-for-rent-iid-1762869742',\n",
       " 'https://www.olx.in/item/4-bhk-on-rent-a9-sarvodya-colony-iid-1757834383',\n",
       " 'https://www.olx.in/item/hall-available-for-rent-iid-1762869411',\n",
       " 'https://www.olx.in/item/1bhk-fully-furnished-first-floor-with-all-amenities-iid-1762869285',\n",
       " 'https://www.olx.in/item/gautam-vihar-colony-meera-pur-basahi-varansi-iid-1762868396',\n",
       " 'https://www.olx.in/item/3-bhk-with-master-bedroom-two-bathroom-common-space-green-environment-iid-1762868813',\n",
       " 'https://www.olx.in/item/for-rent-1st-floor-at-eldeco-udyan-2-raibarelly-road-iid-1762868614',\n",
       " 'https://www.olx.in/item/sweet-home-iid-1762868421',\n",
       " 'https://www.olx.in/item/1-bhk-semi-furnished-flat-with-balcony-iid-1762867741',\n",
       " 'https://www.olx.in/item/2-and-3-bhk-separate-toilet-bathroom-and-kitchen-well-maintained-iid-1762866750',\n",
       " 'https://www.olx.in/item/1-room-with-attached-kitchen-and-bathroom-in-mahmurganj-iid-1762866758',\n",
       " 'https://www.olx.in/item/near-by-ek-murti-iid-1760678204',\n",
       " 'https://www.olx.in/item/near-by-4-murti-iid-1760677825',\n",
       " 'https://www.olx.in/item/teach-zone-4-iid-1760677637',\n",
       " 'https://www.olx.in/item/house-for-rent-iid-1762764381',\n",
       " 'https://www.olx.in/item/2-bhk-independent--iid-1762424355',\n",
       " 'https://www.olx.in/item/2-bhk-room-set-available-for-family-rent-purpose-iid-1761904954',\n",
       " 'https://www.olx.in/item/rent-2-room-sat-rajendra-nagar-colony-iid-1762874939',\n",
       " 'https://www.olx.in/item/best-room-big-iid-1762874780',\n",
       " 'https://www.olx.in/item/rent-2bhk-house-rajendra-nagar-colony-iid-1762874775',\n",
       " 'https://www.olx.in/item/for-rent-in-lucknow-gomti-nagar--iid-1762874451',\n",
       " 'https://www.olx.in/item/independent-house-for-rent-iid-1762874082',\n",
       " 'https://www.olx.in/item/single-room-rent-iid-1762873821',\n",
       " 'https://www.olx.in/item/light-extra-iid-1749385997',\n",
       " 'https://www.olx.in/item/good-and-silent-environment-iid-1762873055',\n",
       " 'https://www.olx.in/item/fully-furnished-apartment-iid-1762872939',\n",
       " 'https://www.olx.in/item/i-p-colony-amara-bypass-opposite-bank-of-india-amra-khaira-chak-iid-1762872508',\n",
       " 'https://www.olx.in/item/only-single-person-required-salaried-person-iid-1762872289',\n",
       " 'https://www.olx.in/item/2room-kitchen-bathroom-for-rent-vishwakarma-nagar-chitaipur-iid-1762872251',\n",
       " 'https://www.olx.in/item/3bhk-for-rent-iid-1762872249',\n",
       " 'https://www.olx.in/item/its-a-2-bhk-flat-need-roommate-to-share-spaces-iid-1762871638',\n",
       " 'https://www.olx.in/item/house-for-rent-at-vayu-vihar-road-near-railways-crossing-agra-iid-1762871525',\n",
       " 'https://www.olx.in/item/awas-vikas-colony-independet-house-iid-1762871463',\n",
       " 'https://www.olx.in/item/2-room-1-balcony-1-kicten-lbw-iid-1762871355',\n",
       " 'https://www.olx.in/item/flat-for-rent-iid-1762814819',\n",
       " 'https://www.olx.in/item/2-bhk-on-rent-in-sec-20-iid-1760641264',\n",
       " 'https://www.olx.in/item/separate-furnished-ac-non-ac-1234-room-set-iid-1681464925',\n",
       " 'https://www.olx.in/item/two-room-set-one-room-set-available-iid-1762871221',\n",
       " 'https://www.olx.in/item/bichhiya-colony-iid-1762870548',\n",
       " 'https://www.olx.in/item/double-story-house-available-ground-floor-iid-1762870374',\n",
       " 'https://www.olx.in/item/room-for-rent-iid-1762869742',\n",
       " 'https://www.olx.in/item/4-bhk-on-rent-a9-sarvodya-colony-iid-1757834383',\n",
       " 'https://www.olx.in/item/hall-available-for-rent-iid-1762869411',\n",
       " 'https://www.olx.in/item/1bhk-fully-furnished-first-floor-with-all-amenities-iid-1762869285',\n",
       " 'https://www.olx.in/item/gautam-vihar-colony-meera-pur-basahi-varansi-iid-1762868396',\n",
       " 'https://www.olx.in/item/3-bhk-with-master-bedroom-two-bathroom-common-space-green-environment-iid-1762868813',\n",
       " 'https://www.olx.in/item/for-rent-1st-floor-at-eldeco-udyan-2-raibarelly-road-iid-1762868614',\n",
       " 'https://www.olx.in/item/sweet-home-iid-1762868421',\n",
       " 'https://www.olx.in/item/1-bhk-semi-furnished-flat-with-balcony-iid-1762867741',\n",
       " 'https://www.olx.in/item/2-and-3-bhk-separate-toilet-bathroom-and-kitchen-well-maintained-iid-1762866750',\n",
       " 'https://www.olx.in/item/1-room-with-attached-kitchen-and-bathroom-in-mahmurganj-iid-1762866758',\n",
       " 'https://www.olx.in/item/near-by-ek-murti-iid-1760678204',\n",
       " 'https://www.olx.in/item/near-by-4-murti-iid-1760677825',\n",
       " 'https://www.olx.in/item/teach-zone-4-iid-1760677637',\n",
       " 'https://www.olx.in/item/house-for-rent-iid-1762764381',\n",
       " 'https://www.olx.in/item/2-bhk-independent--iid-1762424355',\n",
       " 'https://www.olx.in/item/2-bhk-room-set-available-for-family-rent-purpose-iid-1761904954',\n",
       " 'https://www.olx.in/item/rent-2-room-sat-rajendra-nagar-colony-iid-1762874939',\n",
       " 'https://www.olx.in/item/best-room-big-iid-1762874780',\n",
       " 'https://www.olx.in/item/rent-2bhk-house-rajendra-nagar-colony-iid-1762874775',\n",
       " 'https://www.olx.in/item/for-rent-in-lucknow-gomti-nagar--iid-1762874451',\n",
       " 'https://www.olx.in/item/independent-house-for-rent-iid-1762874082',\n",
       " 'https://www.olx.in/item/single-room-rent-iid-1762873821',\n",
       " 'https://www.olx.in/item/light-extra-iid-1749385997',\n",
       " 'https://www.olx.in/item/good-and-silent-environment-iid-1762873055',\n",
       " 'https://www.olx.in/item/fully-furnished-apartment-iid-1762872939',\n",
       " 'https://www.olx.in/item/i-p-colony-amara-bypass-opposite-bank-of-india-amra-khaira-chak-iid-1762872508',\n",
       " 'https://www.olx.in/item/only-single-person-required-salaried-person-iid-1762872289',\n",
       " 'https://www.olx.in/item/2room-kitchen-bathroom-for-rent-vishwakarma-nagar-chitaipur-iid-1762872251',\n",
       " 'https://www.olx.in/item/3bhk-for-rent-iid-1762872249',\n",
       " 'https://www.olx.in/item/its-a-2-bhk-flat-need-roommate-to-share-spaces-iid-1762871638',\n",
       " 'https://www.olx.in/item/house-for-rent-at-vayu-vihar-road-near-railways-crossing-agra-iid-1762871525',\n",
       " 'https://www.olx.in/item/awas-vikas-colony-independet-house-iid-1762871463',\n",
       " 'https://www.olx.in/item/2-room-1-balcony-1-kicten-lbw-iid-1762871355',\n",
       " 'https://www.olx.in/item/flat-for-rent-iid-1762814819',\n",
       " 'https://www.olx.in/item/2-bhk-on-rent-in-sec-20-iid-1760641264',\n",
       " 'https://www.olx.in/item/separate-furnished-ac-non-ac-1234-room-set-iid-1681464925',\n",
       " 'https://www.olx.in/item/two-room-set-one-room-set-available-iid-1762871221',\n",
       " 'https://www.olx.in/item/bichhiya-colony-iid-1762870548',\n",
       " 'https://www.olx.in/item/double-story-house-available-ground-floor-iid-1762870374',\n",
       " 'https://www.olx.in/item/room-for-rent-iid-1762869742',\n",
       " 'https://www.olx.in/item/4-bhk-on-rent-a9-sarvodya-colony-iid-1757834383',\n",
       " 'https://www.olx.in/item/hall-available-for-rent-iid-1762869411',\n",
       " 'https://www.olx.in/item/1bhk-fully-furnished-first-floor-with-all-amenities-iid-1762869285',\n",
       " 'https://www.olx.in/item/gautam-vihar-colony-meera-pur-basahi-varansi-iid-1762868396',\n",
       " 'https://www.olx.in/item/3-bhk-with-master-bedroom-two-bathroom-common-space-green-environment-iid-1762868813',\n",
       " 'https://www.olx.in/item/for-rent-1st-floor-at-eldeco-udyan-2-raibarelly-road-iid-1762868614',\n",
       " 'https://www.olx.in/item/sweet-home-iid-1762868421',\n",
       " 'https://www.olx.in/item/1-bhk-semi-furnished-flat-with-balcony-iid-1762867741',\n",
       " 'https://www.olx.in/item/2-and-3-bhk-separate-toilet-bathroom-and-kitchen-well-maintained-iid-1762866750',\n",
       " 'https://www.olx.in/item/1-room-with-attached-kitchen-and-bathroom-in-mahmurganj-iid-1762866758',\n",
       " 'https://www.olx.in/item/near-by-ek-murti-iid-1760678204',\n",
       " 'https://www.olx.in/item/near-by-4-murti-iid-1760677825',\n",
       " 'https://www.olx.in/item/teach-zone-4-iid-1760677637',\n",
       " 'https://www.olx.in/item/house-for-rent-iid-1762764381',\n",
       " 'https://www.olx.in/item/2-bhk-independent--iid-1762424355',\n",
       " 'https://www.olx.in/item/2-bhk-room-set-available-for-family-rent-purpose-iid-1761904954',\n",
       " 'https://www.olx.in/item/rent-2-room-sat-rajendra-nagar-colony-iid-1762874939',\n",
       " 'https://www.olx.in/item/best-room-big-iid-1762874780',\n",
       " 'https://www.olx.in/item/rent-2bhk-house-rajendra-nagar-colony-iid-1762874775',\n",
       " 'https://www.olx.in/item/for-rent-in-lucknow-gomti-nagar--iid-1762874451',\n",
       " 'https://www.olx.in/item/independent-house-for-rent-iid-1762874082',\n",
       " 'https://www.olx.in/item/single-room-rent-iid-1762873821',\n",
       " 'https://www.olx.in/item/light-extra-iid-1749385997',\n",
       " 'https://www.olx.in/item/good-and-silent-environment-iid-1762873055',\n",
       " 'https://www.olx.in/item/fully-furnished-apartment-iid-1762872939',\n",
       " 'https://www.olx.in/item/i-p-colony-amara-bypass-opposite-bank-of-india-amra-khaira-chak-iid-1762872508',\n",
       " 'https://www.olx.in/item/only-single-person-required-salaried-person-iid-1762872289',\n",
       " 'https://www.olx.in/item/2room-kitchen-bathroom-for-rent-vishwakarma-nagar-chitaipur-iid-1762872251',\n",
       " 'https://www.olx.in/item/3bhk-for-rent-iid-1762872249',\n",
       " 'https://www.olx.in/item/its-a-2-bhk-flat-need-roommate-to-share-spaces-iid-1762871638',\n",
       " 'https://www.olx.in/item/house-for-rent-at-vayu-vihar-road-near-railways-crossing-agra-iid-1762871525',\n",
       " 'https://www.olx.in/item/awas-vikas-colony-independet-house-iid-1762871463',\n",
       " 'https://www.olx.in/item/2-room-1-balcony-1-kicten-lbw-iid-1762871355',\n",
       " 'https://www.olx.in/item/flat-for-rent-iid-1762814819',\n",
       " 'https://www.olx.in/item/2-bhk-on-rent-in-sec-20-iid-1760641264',\n",
       " 'https://www.olx.in/item/separate-furnished-ac-non-ac-1234-room-set-iid-1681464925',\n",
       " 'https://www.olx.in/item/two-room-set-one-room-set-available-iid-1762871221',\n",
       " 'https://www.olx.in/item/bichhiya-colony-iid-1762870548',\n",
       " 'https://www.olx.in/item/double-story-house-available-ground-floor-iid-1762870374',\n",
       " 'https://www.olx.in/item/room-for-rent-iid-1762869742',\n",
       " 'https://www.olx.in/item/4-bhk-on-rent-a9-sarvodya-colony-iid-1757834383',\n",
       " 'https://www.olx.in/item/hall-available-for-rent-iid-1762869411',\n",
       " 'https://www.olx.in/item/1bhk-fully-furnished-first-floor-with-all-amenities-iid-1762869285',\n",
       " 'https://www.olx.in/item/gautam-vihar-colony-meera-pur-basahi-varansi-iid-1762868396',\n",
       " 'https://www.olx.in/item/3-bhk-with-master-bedroom-two-bathroom-common-space-green-environment-iid-1762868813',\n",
       " 'https://www.olx.in/item/for-rent-1st-floor-at-eldeco-udyan-2-raibarelly-road-iid-1762868614',\n",
       " 'https://www.olx.in/item/sweet-home-iid-1762868421',\n",
       " 'https://www.olx.in/item/1-bhk-semi-furnished-flat-with-balcony-iid-1762867741',\n",
       " 'https://www.olx.in/item/2-and-3-bhk-separate-toilet-bathroom-and-kitchen-well-maintained-iid-1762866750',\n",
       " 'https://www.olx.in/item/1-room-with-attached-kitchen-and-bathroom-in-mahmurganj-iid-1762866758',\n",
       " 'https://www.olx.in/item/near-by-ek-murti-iid-1760678204',\n",
       " 'https://www.olx.in/item/near-by-4-murti-iid-1760677825',\n",
       " 'https://www.olx.in/item/teach-zone-4-iid-1760677637',\n",
       " 'https://www.olx.in/item/apartment-for-rent-iid-1760675583',\n",
       " 'https://www.olx.in/item/semi-furnished-house-for-rent-mullai-nagar-iid-1753709797',\n",
       " 'https://www.olx.in/item/1-bhk-independent-new-flat-for-rent-iid-1761963466',\n",
       " 'https://www.olx.in/item/rental-house-available-at-prc-2-colony-kovilapakudi-pirivu-iid-1762874229',\n",
       " 'https://www.olx.in/item/house-for-rent-iid-1759182276',\n",
       " 'https://www.olx.in/item/3bhk-for-rent-near-new-bus-terminus-iid-1762873760',\n",
       " 'https://www.olx.in/item/brayant-nagar-2-bhk-first-floor-home-available-iid-1745904355',\n",
       " 'https://www.olx.in/item/2-bhk-apartment-iid-1762872517',\n",
       " 'https://www.olx.in/item/kerala-bachelors-rent-room-iid-1762872321',\n",
       " 'https://www.olx.in/item/porur-to-kundrathur-onroad-next-to-narayana-school-iid-1761436651',\n",
       " 'https://www.olx.in/item/ngr-road-2-house-for-rent-iid-1762871846',\n",
       " 'https://www.olx.in/item/house-lease-iid-1762871788',\n",
       " 'https://www.olx.in/item/jonushka-illam-iid-1762871523',\n",
       " 'https://www.olx.in/item/rent-house-iid-1762871449',\n",
       " 'https://www.olx.in/item/need-1b-1b-iid-1762871408',\n",
       " 'https://www.olx.in/item/single-studio-room-with-kitchenette-and-washroom-iid-1762871001',\n",
       " 'https://www.olx.in/item/7-bhk-rent-house-available-in-kuranguchavadi-salem-iid-1753741704',\n",
       " 'https://www.olx.in/item/house-for-rental-iid-1762870480',\n",
       " 'https://www.olx.in/item/luxury-apartment-for-lease-in-avadi-hvf-road-iid-1762870119',\n",
       " 'https://www.olx.in/item/beautiful-3-bhk-home-for-rent-in-mayiladuturai-iid-1762870067',\n",
       " 'https://www.olx.in/item/semi-furnished-iid-1761873156',\n",
       " 'https://www.olx.in/item/lease-property-2-bhk-flat-west-tambaram-iid-1760193578',\n",
       " 'https://www.olx.in/item/family-fully-furnished-1bhk-near-ashok-pillar-iid-1760160601',\n",
       " 'https://www.olx.in/item/semi-furnished-apartment-for-rent-in-saravanampatti-iid-1762869734',\n",
       " 'https://www.olx.in/item/single-occupancy-for-rent-iid-1762869500',\n",
       " 'https://www.olx.in/item/vinayagar-house-iid-1762868375',\n",
       " 'https://www.olx.in/item/2-bhk-house-for-rent-in-coimbatore-iid-1762867879',\n",
       " 'https://www.olx.in/item/house-for-rent-iid-1762867369',\n",
       " 'https://www.olx.in/item/new-house-for-rent-iid-1762866848',\n",
       " 'https://www.olx.in/item/purasawalkam-sundaram-street-iid-1762866732',\n",
       " 'https://www.olx.in/item/house-villa-iid-1762866731',\n",
       " 'https://www.olx.in/item/2bhk-independent-duplex-house-for-lease-iid-1762866496',\n",
       " 'https://www.olx.in/item/2bhk-for-5000-rent-iid-1762866480',\n",
       " 'https://www.olx.in/item/we-need-house-for-lease-30lakhs-iid-1762866376',\n",
       " 'https://www.olx.in/item/sheet-house-in-vallampadugai-main-road-for-rent-iid-1762864853',\n",
       " 'https://www.olx.in/item/east-facing-1bhk-available-for-rent-near-aavin-paramathi-velur-iid-1762864699',\n",
       " 'https://www.olx.in/item/fully-furnished-new-flat-for-rent-iid-1762864670',\n",
       " 'https://www.olx.in/item/newly-built-2bhk-houses-for-rent-near-tambaram-behind-perungulattur-iid-1762864329',\n",
       " 'https://www.olx.in/item/1bhk-new-flat-one-year-old-lease-only-iid-1762864037',\n",
       " 'https://www.olx.in/item/house-for-rent-at-muthupatti-iid-1760675270',\n",
       " 'https://www.olx.in/item/apartment-for-rent-iid-1760675583',\n",
       " 'https://www.olx.in/item/semi-furnished-house-for-rent-mullai-nagar-iid-1753709797',\n",
       " 'https://www.olx.in/item/1-bhk-independent-new-flat-for-rent-iid-1761963466',\n",
       " 'https://www.olx.in/item/rental-house-available-at-prc-2-colony-kovilapakudi-pirivu-iid-1762874229',\n",
       " 'https://www.olx.in/item/house-for-rent-iid-1759182276',\n",
       " 'https://www.olx.in/item/3bhk-for-rent-near-new-bus-terminus-iid-1762873760',\n",
       " 'https://www.olx.in/item/brayant-nagar-2-bhk-first-floor-home-available-iid-1745904355',\n",
       " 'https://www.olx.in/item/2-bhk-apartment-iid-1762872517',\n",
       " 'https://www.olx.in/item/kerala-bachelors-rent-room-iid-1762872321',\n",
       " 'https://www.olx.in/item/porur-to-kundrathur-onroad-next-to-narayana-school-iid-1761436651',\n",
       " 'https://www.olx.in/item/ngr-road-2-house-for-rent-iid-1762871846',\n",
       " 'https://www.olx.in/item/house-lease-iid-1762871788',\n",
       " 'https://www.olx.in/item/jonushka-illam-iid-1762871523',\n",
       " 'https://www.olx.in/item/rent-house-iid-1762871449',\n",
       " 'https://www.olx.in/item/need-1b-1b-iid-1762871408',\n",
       " 'https://www.olx.in/item/single-studio-room-with-kitchenette-and-washroom-iid-1762871001',\n",
       " 'https://www.olx.in/item/7-bhk-rent-house-available-in-kuranguchavadi-salem-iid-1753741704',\n",
       " 'https://www.olx.in/item/house-for-rental-iid-1762870480',\n",
       " 'https://www.olx.in/item/luxury-apartment-for-lease-in-avadi-hvf-road-iid-1762870119',\n",
       " 'https://www.olx.in/item/beautiful-3-bhk-home-for-rent-in-mayiladuturai-iid-1762870067',\n",
       " 'https://www.olx.in/item/semi-furnished-iid-1761873156',\n",
       " 'https://www.olx.in/item/lease-property-2-bhk-flat-west-tambaram-iid-1760193578',\n",
       " 'https://www.olx.in/item/family-fully-furnished-1bhk-near-ashok-pillar-iid-1760160601',\n",
       " 'https://www.olx.in/item/semi-furnished-apartment-for-rent-in-saravanampatti-iid-1762869734',\n",
       " 'https://www.olx.in/item/single-occupancy-for-rent-iid-1762869500',\n",
       " 'https://www.olx.in/item/vinayagar-house-iid-1762868375',\n",
       " 'https://www.olx.in/item/2-bhk-house-for-rent-in-coimbatore-iid-1762867879',\n",
       " 'https://www.olx.in/item/house-for-rent-iid-1762867369',\n",
       " 'https://www.olx.in/item/new-house-for-rent-iid-1762866848',\n",
       " 'https://www.olx.in/item/purasawalkam-sundaram-street-iid-1762866732',\n",
       " 'https://www.olx.in/item/house-villa-iid-1762866731',\n",
       " 'https://www.olx.in/item/2bhk-independent-duplex-house-for-lease-iid-1762866496',\n",
       " 'https://www.olx.in/item/2bhk-for-5000-rent-iid-1762866480',\n",
       " 'https://www.olx.in/item/we-need-house-for-lease-30lakhs-iid-1762866376',\n",
       " 'https://www.olx.in/item/sheet-house-in-vallampadugai-main-road-for-rent-iid-1762864853',\n",
       " 'https://www.olx.in/item/east-facing-1bhk-available-for-rent-near-aavin-paramathi-velur-iid-1762864699',\n",
       " 'https://www.olx.in/item/fully-furnished-new-flat-for-rent-iid-1762864670',\n",
       " 'https://www.olx.in/item/newly-built-2bhk-houses-for-rent-near-tambaram-behind-perungulattur-iid-1762864329',\n",
       " 'https://www.olx.in/item/1bhk-new-flat-one-year-old-lease-only-iid-1762864037',\n",
       " 'https://www.olx.in/item/house-for-rent-at-muthupatti-iid-1760675270',\n",
       " 'https://www.olx.in/item/apartment-for-rent-iid-1760675583',\n",
       " 'https://www.olx.in/item/semi-furnished-house-for-rent-mullai-nagar-iid-1753709797',\n",
       " 'https://www.olx.in/item/1-bhk-independent-new-flat-for-rent-iid-1761963466',\n",
       " 'https://www.olx.in/item/rental-house-available-at-prc-2-colony-kovilapakudi-pirivu-iid-1762874229',\n",
       " 'https://www.olx.in/item/house-for-rent-iid-1759182276',\n",
       " 'https://www.olx.in/item/3bhk-for-rent-near-new-bus-terminus-iid-1762873760',\n",
       " 'https://www.olx.in/item/brayant-nagar-2-bhk-first-floor-home-available-iid-1745904355',\n",
       " 'https://www.olx.in/item/2-bhk-apartment-iid-1762872517',\n",
       " 'https://www.olx.in/item/kerala-bachelors-rent-room-iid-1762872321',\n",
       " 'https://www.olx.in/item/porur-to-kundrathur-onroad-next-to-narayana-school-iid-1761436651',\n",
       " 'https://www.olx.in/item/ngr-road-2-house-for-rent-iid-1762871846',\n",
       " 'https://www.olx.in/item/house-lease-iid-1762871788',\n",
       " 'https://www.olx.in/item/jonushka-illam-iid-1762871523',\n",
       " 'https://www.olx.in/item/rent-house-iid-1762871449',\n",
       " 'https://www.olx.in/item/need-1b-1b-iid-1762871408',\n",
       " 'https://www.olx.in/item/single-studio-room-with-kitchenette-and-washroom-iid-1762871001',\n",
       " 'https://www.olx.in/item/7-bhk-rent-house-available-in-kuranguchavadi-salem-iid-1753741704',\n",
       " 'https://www.olx.in/item/house-for-rental-iid-1762870480',\n",
       " 'https://www.olx.in/item/luxury-apartment-for-lease-in-avadi-hvf-road-iid-1762870119',\n",
       " 'https://www.olx.in/item/beautiful-3-bhk-home-for-rent-in-mayiladuturai-iid-1762870067',\n",
       " 'https://www.olx.in/item/semi-furnished-iid-1761873156',\n",
       " 'https://www.olx.in/item/lease-property-2-bhk-flat-west-tambaram-iid-1760193578',\n",
       " 'https://www.olx.in/item/family-fully-furnished-1bhk-near-ashok-pillar-iid-1760160601',\n",
       " 'https://www.olx.in/item/semi-furnished-apartment-for-rent-in-saravanampatti-iid-1762869734',\n",
       " 'https://www.olx.in/item/single-occupancy-for-rent-iid-1762869500',\n",
       " 'https://www.olx.in/item/vinayagar-house-iid-1762868375',\n",
       " 'https://www.olx.in/item/2-bhk-house-for-rent-in-coimbatore-iid-1762867879',\n",
       " 'https://www.olx.in/item/house-for-rent-iid-1762867369',\n",
       " 'https://www.olx.in/item/new-house-for-rent-iid-1762866848',\n",
       " 'https://www.olx.in/item/purasawalkam-sundaram-street-iid-1762866732',\n",
       " 'https://www.olx.in/item/house-villa-iid-1762866731',\n",
       " 'https://www.olx.in/item/2bhk-independent-duplex-house-for-lease-iid-1762866496',\n",
       " 'https://www.olx.in/item/2bhk-for-5000-rent-iid-1762866480',\n",
       " 'https://www.olx.in/item/we-need-house-for-lease-30lakhs-iid-1762866376',\n",
       " 'https://www.olx.in/item/sheet-house-in-vallampadugai-main-road-for-rent-iid-1762864853',\n",
       " 'https://www.olx.in/item/east-facing-1bhk-available-for-rent-near-aavin-paramathi-velur-iid-1762864699',\n",
       " 'https://www.olx.in/item/fully-furnished-new-flat-for-rent-iid-1762864670',\n",
       " 'https://www.olx.in/item/newly-built-2bhk-houses-for-rent-near-tambaram-behind-perungulattur-iid-1762864329',\n",
       " 'https://www.olx.in/item/1bhk-new-flat-one-year-old-lease-only-iid-1762864037',\n",
       " 'https://www.olx.in/item/house-for-rent-at-muthupatti-iid-1760675270',\n",
       " 'https://www.olx.in/item/apartment-for-rent-iid-1760675583',\n",
       " 'https://www.olx.in/item/semi-furnished-house-for-rent-mullai-nagar-iid-1753709797',\n",
       " 'https://www.olx.in/item/1-bhk-independent-new-flat-for-rent-iid-1761963466',\n",
       " 'https://www.olx.in/item/rental-house-available-at-prc-2-colony-kovilapakudi-pirivu-iid-1762874229',\n",
       " 'https://www.olx.in/item/house-for-rent-iid-1759182276',\n",
       " 'https://www.olx.in/item/3bhk-for-rent-near-new-bus-terminus-iid-1762873760',\n",
       " 'https://www.olx.in/item/brayant-nagar-2-bhk-first-floor-home-available-iid-1745904355',\n",
       " 'https://www.olx.in/item/2-bhk-apartment-iid-1762872517',\n",
       " 'https://www.olx.in/item/kerala-bachelors-rent-room-iid-1762872321',\n",
       " 'https://www.olx.in/item/porur-to-kundrathur-onroad-next-to-narayana-school-iid-1761436651',\n",
       " 'https://www.olx.in/item/ngr-road-2-house-for-rent-iid-1762871846',\n",
       " 'https://www.olx.in/item/house-lease-iid-1762871788',\n",
       " 'https://www.olx.in/item/jonushka-illam-iid-1762871523',\n",
       " 'https://www.olx.in/item/rent-house-iid-1762871449',\n",
       " 'https://www.olx.in/item/need-1b-1b-iid-1762871408',\n",
       " 'https://www.olx.in/item/single-studio-room-with-kitchenette-and-washroom-iid-1762871001',\n",
       " 'https://www.olx.in/item/7-bhk-rent-house-available-in-kuranguchavadi-salem-iid-1753741704',\n",
       " 'https://www.olx.in/item/house-for-rental-iid-1762870480',\n",
       " 'https://www.olx.in/item/luxury-apartment-for-lease-in-avadi-hvf-road-iid-1762870119',\n",
       " 'https://www.olx.in/item/beautiful-3-bhk-home-for-rent-in-mayiladuturai-iid-1762870067',\n",
       " 'https://www.olx.in/item/semi-furnished-iid-1761873156',\n",
       " 'https://www.olx.in/item/lease-property-2-bhk-flat-west-tambaram-iid-1760193578',\n",
       " 'https://www.olx.in/item/family-fully-furnished-1bhk-near-ashok-pillar-iid-1760160601',\n",
       " 'https://www.olx.in/item/semi-furnished-apartment-for-rent-in-saravanampatti-iid-1762869734',\n",
       " 'https://www.olx.in/item/single-occupancy-for-rent-iid-1762869500',\n",
       " 'https://www.olx.in/item/vinayagar-house-iid-1762868375',\n",
       " 'https://www.olx.in/item/2-bhk-house-for-rent-in-coimbatore-iid-1762867879',\n",
       " 'https://www.olx.in/item/house-for-rent-iid-1762867369',\n",
       " 'https://www.olx.in/item/new-house-for-rent-iid-1762866848',\n",
       " 'https://www.olx.in/item/purasawalkam-sundaram-street-iid-1762866732',\n",
       " 'https://www.olx.in/item/house-villa-iid-1762866731',\n",
       " 'https://www.olx.in/item/2bhk-independent-duplex-house-for-lease-iid-1762866496',\n",
       " 'https://www.olx.in/item/2bhk-for-5000-rent-iid-1762866480',\n",
       " 'https://www.olx.in/item/we-need-house-for-lease-30lakhs-iid-1762866376',\n",
       " 'https://www.olx.in/item/sheet-house-in-vallampadugai-main-road-for-rent-iid-1762864853',\n",
       " 'https://www.olx.in/item/east-facing-1bhk-available-for-rent-near-aavin-paramathi-velur-iid-1762864699',\n",
       " 'https://www.olx.in/item/fully-furnished-new-flat-for-rent-iid-1762864670',\n",
       " 'https://www.olx.in/item/newly-built-2bhk-houses-for-rent-near-tambaram-behind-perungulattur-iid-1762864329',\n",
       " 'https://www.olx.in/item/1bhk-new-flat-one-year-old-lease-only-iid-1762864037',\n",
       " 'https://www.olx.in/item/house-for-rent-at-muthupatti-iid-1760675270',\n",
       " ...]"
      ]
     },
     "execution_count": 71,
     "metadata": {},
     "output_type": "execute_result"
    }
   ],
   "source": [
    "property_urls"
   ]
  },
  {
   "cell_type": "code",
   "execution_count": 72,
   "id": "f88dafc7",
   "metadata": {},
   "outputs": [
    {
     "data": {
      "text/plain": [
       "5600"
      ]
     },
     "execution_count": 72,
     "metadata": {},
     "output_type": "execute_result"
    }
   ],
   "source": [
    "len(property_urls)"
   ]
  },
  {
   "cell_type": "code",
   "execution_count": 73,
   "id": "d937bad7",
   "metadata": {},
   "outputs": [
    {
     "name": "stdout",
     "output_type": "stream",
     "text": [
      "Total property URLs collected: 5600\n"
     ]
    }
   ],
   "source": [
    "print(\"Total property URLs collected:\", len(property_urls))"
   ]
  },
  {
   "cell_type": "code",
   "execution_count": 74,
   "id": "e75a0936",
   "metadata": {},
   "outputs": [],
   "source": [
    "driver.quit()"
   ]
  },
  {
   "cell_type": "code",
   "execution_count": 75,
   "id": "d63d9c72",
   "metadata": {},
   "outputs": [],
   "source": [
    "driver = webdriver.Chrome()"
   ]
  },
  {
   "cell_type": "code",
   "execution_count": 76,
   "id": "7d86ec3d",
   "metadata": {},
   "outputs": [],
   "source": [
    "name =[]\n",
    "price = []\n",
    "city =[]\n",
    "Address = []\n",
    "Bedrooms = []\n",
    "Bathrooms = []\n",
    "carpet_area = []\n",
    "total_floors = []\n",
    "car_parking = []\n",
    "floor_no = []\n",
    "bachelors_allowed = []\n",
    "super_builtup_area = []\n",
    "furnishing = []\n",
    "type_ = []\n",
    "facing = []"
   ]
  },
  {
   "cell_type": "code",
   "execution_count": 77,
   "id": "cf77faba",
   "metadata": {},
   "outputs": [],
   "source": [
    "from selenium import webdriver\n",
    "from selenium.webdriver.common.by import By\n",
    "from selenium.common.exceptions import NoSuchElementException, StaleElementReferenceException, WebDriverException\n",
    "import time\n",
    "property_count = 0\n",
    "start_time = time.time()\n",
    "refresh_interval = 5\n",
    "for url in property_urls:\n",
    "    if time.time() - start_time > refresh_interval:\n",
    "        driver.refresh()\n",
    "        start_time = time.time() \n",
    "    driver.get(url)\n",
    "    \n",
    "\n",
    "    try:\n",
    "        prop_name_element = driver.find_element(By.XPATH, '/html/body/div/div/main/div/div/div/div[5]/div[1]/div/section/h1')\n",
    "        name.append(prop_name_element.text)\n",
    "    except NoSuchElementException:\n",
    "        name.append('not present')\n",
    "    except StaleElementReferenceException:\n",
    "        pass\n",
    "    try:\n",
    "        price_element = driver.find_element(By.XPATH, '/html/body/div/div/main/div/div/div/div[5]/div[1]/div/section/span[1]')\n",
    "        price.append(price_element.text)\n",
    "    except NoSuchElementException:\n",
    "        price.append('not present')\n",
    "    except StaleElementReferenceException:\n",
    "        pass\n",
    "    try:\n",
    "        prop_city_element = driver.find_element(By.XPATH, '/html/body/div/div/header/div/div/div[2]/div/div/div[1]/div/div[1]/input')\n",
    "        city.append(prop_city_element.get_attribute('value'))\n",
    "    except NoSuchElementException:\n",
    "        city.append('not present')\n",
    "    except StaleElementReferenceException:\n",
    "        pass\n",
    "    try:\n",
    "        prop_Address_element = driver.find_element(By.XPATH, '/html/body/div/div/main/div/div/div/div[5]/div[1]/div/section/div/div[1]/div/span')\n",
    "        Address.append(prop_Address_element.text)\n",
    "    except NoSuchElementException:\n",
    "        Address.append('not present')\n",
    "    except StaleElementReferenceException:\n",
    "        pass\n",
    "    try:\n",
    "        bed_element = driver.find_element(By.XPATH, '/html/body/div/div/main/div/div/div/div[4]/section/div/div/div[1]/div/div[3]/div/span[2]')\n",
    "        Bedrooms.append(bed_element.text)\n",
    "    except NoSuchElementException:\n",
    "        Bedrooms.append('not present')\n",
    "    except StaleElementReferenceException:\n",
    "        pass\n",
    "    try:\n",
    "        bathroom_element = driver.find_element(By.XPATH, '/html/body/div/div/main/div/div/div/div[4]/section/div/div/div[1]/div/div[2]/div/span[2]')\n",
    "        Bathrooms.append(bathroom_element.text)\n",
    "    except NoSuchElementException:\n",
    "        Bathrooms.append('not present')\n",
    "    except StaleElementReferenceException:\n",
    "        pass\n",
    "    try:\n",
    "        area_element = driver.find_element(By.XPATH, '/html/body/div/div/main/div/div/div/div[4]/section/div/div/div[1]/div/div[7]/div/span[2]')\n",
    "        carpet_area.append(area_element.text)\n",
    "    except NoSuchElementException:\n",
    "        carpet_area.append('not present')\n",
    "    except StaleElementReferenceException:\n",
    "        pass\n",
    "    try:\n",
    "        floors_element = driver.find_element(By.XPATH, '/html/body/div[1]/div/main/div/div/div/div[4]/section/div/div/div[1]/div/div[10]/div/span[2]')\n",
    "        total_floors.append(floors_element.text)\n",
    "    except NoSuchElementException:\n",
    "        total_floors.append('not present')\n",
    "    except StaleElementReferenceException:\n",
    "         pass\n",
    "    try:\n",
    "        parking_element = driver.find_element(By.XPATH, '/html/body/div/div/main/div/div/div/div[4]/section/div/div/div[1]/div/div[12]/div/span[2]')\n",
    "        car_parking.append(parking_element.text)\n",
    "    except NoSuchElementException:\n",
    "        car_parking.append('not present')\n",
    "    except StaleElementReferenceException:\n",
    "        pass\n",
    "    try:\n",
    "        floor_element = driver.find_element(By.XPATH, '/html/body/div/div/main/div/div/div/div[4]/section/div/div/div[1]/div/div[11]/div/span[2]')\n",
    "        floor_no.append(floor_element.text)\n",
    "    except NoSuchElementException:\n",
    "        floor_no.append('not present')\n",
    "    except StaleElementReferenceException:\n",
    "        pass\n",
    "    try:\n",
    "        bachelors_element = driver.find_element(By.XPATH, '/html/body/div/div/main/div/div/div/div[4]/section/div/div/div[1]/div/div[8]/div/span[2]')\n",
    "        bachelors_allowed.append(bachelors_element.text)\n",
    "    except NoSuchElementException:\n",
    "        bachelors_allowed.append('not present')\n",
    "    except StaleElementReferenceException:\n",
    "        pass\n",
    "    try:\n",
    "        super_area_element = driver.find_element(By.XPATH, '/html/body/div[1]/div/main/div/div/div/div[4]/section/div/div/div[1]/div/div[6]/div/span[2]')\n",
    "        super_builtup_area.append(super_area_element.text)\n",
    "    except NoSuchElementException:\n",
    "        super_builtup_area.append('not present')\n",
    "    except StaleElementReferenceException:\n",
    "        pass\n",
    "    try:\n",
    "        furn_element = driver.find_element(By.XPATH, '/html/body/div[1]/div/main/div/div/div/div[4]/section/div/div/div[1]/div/div[4]/div/span[2]')\n",
    "        furnishing.append(furn_element.text)\n",
    "    except NoSuchElementException:\n",
    "        furnishing.append('not present')\n",
    "    except StaleElementReferenceException:\n",
    "        pass\n",
    "    try:\n",
    "        property_type_element = driver.find_element(By.XPATH, '/html/body/div[1]/div/main/div/div/div/div[4]/section/div/div/div[1]/div/div[1]/div/span[2]')\n",
    "        type_.append(property_type_element.text)\n",
    "    except NoSuchElementException:\n",
    "        type_.append('not present')\n",
    "    except StaleElementReferenceException:\n",
    "        pass\n",
    "    try:\n",
    "        facing_element = driver.find_element(By.XPATH, '/html/body/div/div/main/div/div/div/div[4]/section/div/div/div[1]/div/div[13]/div/span[2]')\n",
    "        facing.append(facing_element.text)\n",
    "    except NoSuchElementException:\n",
    "        facing.append('not present')\n",
    "    except StaleElementReferenceException:\n",
    "        pass\n",
    "            \n",
    "    except WebDriverException as e:\n",
    "        print(f\"WebDriverException occurred: {e}\")\n",
    "        print(\"Attempting to re-establish WebDriver session...\")\n",
    "        driver.quit()\n",
    "        driver = webdriver.Chrome()  \n",
    "        continue"
   ]
  },
  {
   "cell_type": "code",
   "execution_count": 92,
   "id": "bb3b36b7",
   "metadata": {},
   "outputs": [
    {
     "data": {
      "text/plain": [
       "(5600,\n",
       " 5600,\n",
       " 5600,\n",
       " 5600,\n",
       " 5600,\n",
       " 5600,\n",
       " 5600,\n",
       " 5600,\n",
       " 5600,\n",
       " 5600,\n",
       " 5600,\n",
       " 5600,\n",
       " 5600,\n",
       " 5600,\n",
       " 5600)"
      ]
     },
     "execution_count": 92,
     "metadata": {},
     "output_type": "execute_result"
    }
   ],
   "source": [
    "len(name),len(price),len(city),len(Bedrooms),len(Bathrooms),len(carpet_area),len(total_floors),len(car_parking),len(floor_no),len(bachelors_allowed),len(super_builtup_area),len(furnishing),len(type_),len(facing),len(Address)"
   ]
  },
  {
   "cell_type": "code",
   "execution_count": 93,
   "id": "2cf33067",
   "metadata": {},
   "outputs": [],
   "source": [
    "max_length = 5600"
   ]
  },
  {
   "cell_type": "code",
   "execution_count": 94,
   "id": "6d79f9b3",
   "metadata": {},
   "outputs": [],
   "source": [
    "name = name[:max_length]\n",
    "price = price[:max_length]\n",
    "city = city[:max_length]\n",
    "Address = Address[:max_length]\n",
    "Bedrooms = Bedrooms[:max_length]\n",
    "Bathrooms = Bathrooms[:max_length]\n",
    "carpet_area = carpet_area[:max_length]\n",
    "total_floors = total_floors[:max_length]\n",
    "car_parking = car_parking[:max_length]\n",
    "floor_no = floor_no[:max_length]\n",
    "bachelors_allowed = bachelors_allowed[:max_length]\n",
    "super_builtup_area = super_builtup_area[:max_length]\n",
    "furnishing = furnishing[:max_length]\n",
    "type_ = type_[:max_length]\n",
    "facing = facing[:max_length]"
   ]
  },
  {
   "cell_type": "code",
   "execution_count": 95,
   "id": "652aa50f",
   "metadata": {},
   "outputs": [],
   "source": [
    "data = {\n",
    "    'Name': name,\n",
    "    'Price': price,\n",
    "    'City': city,\n",
    "    'Address': Address,\n",
    "    'Bedrooms': Bedrooms,\n",
    "    'Bathrooms': Bathrooms,\n",
    "    'Carpet_Area': carpet_area,\n",
    "    'Total_Floors': total_floors,\n",
    "    'Car_Parking': car_parking,\n",
    "    'Floor_No': floor_no,\n",
    "    'Bachelors_Allowed': bachelors_allowed,\n",
    "    'Super_Builtup_Area': super_builtup_area,\n",
    "    'Furnishing': furnishing,\n",
    "    'Type': type_,\n",
    "    'Facing': facing}"
   ]
  },
  {
   "cell_type": "code",
   "execution_count": 96,
   "id": "6c8eef8f",
   "metadata": {},
   "outputs": [],
   "source": [
    "df = pd.DataFrame(data)"
   ]
  },
  {
   "cell_type": "code",
   "execution_count": 97,
   "id": "e78cb971",
   "metadata": {},
   "outputs": [
    {
     "data": {
      "text/html": [
       "<div>\n",
       "<style scoped>\n",
       "    .dataframe tbody tr th:only-of-type {\n",
       "        vertical-align: middle;\n",
       "    }\n",
       "\n",
       "    .dataframe tbody tr th {\n",
       "        vertical-align: top;\n",
       "    }\n",
       "\n",
       "    .dataframe thead th {\n",
       "        text-align: right;\n",
       "    }\n",
       "</style>\n",
       "<table border=\"1\" class=\"dataframe\">\n",
       "  <thead>\n",
       "    <tr style=\"text-align: right;\">\n",
       "      <th></th>\n",
       "      <th>Name</th>\n",
       "      <th>Price</th>\n",
       "      <th>City</th>\n",
       "      <th>Address</th>\n",
       "      <th>Bedrooms</th>\n",
       "      <th>Bathrooms</th>\n",
       "      <th>Carpet_Area</th>\n",
       "      <th>Total_Floors</th>\n",
       "      <th>Car_Parking</th>\n",
       "      <th>Floor_No</th>\n",
       "      <th>Bachelors_Allowed</th>\n",
       "      <th>Super_Builtup_Area</th>\n",
       "      <th>Furnishing</th>\n",
       "      <th>Type</th>\n",
       "      <th>Facing</th>\n",
       "    </tr>\n",
       "  </thead>\n",
       "  <tbody>\n",
       "    <tr>\n",
       "      <th>0</th>\n",
       "      <td>1 BHK KAKKANAD ATHANI NEAR INFOPRK</td>\n",
       "      <td>₹ 16,000</td>\n",
       "      <td>India</td>\n",
       "      <td>Athani Kakkanad, Kochi, Kerala</td>\n",
       "      <td>1</td>\n",
       "      <td>1</td>\n",
       "      <td>500</td>\n",
       "      <td>3</td>\n",
       "      <td>2</td>\n",
       "      <td>1</td>\n",
       "      <td>Yes</td>\n",
       "      <td>550</td>\n",
       "      <td>Furnished</td>\n",
       "      <td>Apartments</td>\n",
       "      <td>North</td>\n",
       "    </tr>\n",
       "    <tr>\n",
       "      <th>1</th>\n",
       "      <td>Furnished 2 BHK FLAT IN KOZHIKODE CITY</td>\n",
       "      <td>₹ 12,000</td>\n",
       "      <td>India</td>\n",
       "      <td>Mankavu, Kozhikode, Kerala</td>\n",
       "      <td>1</td>\n",
       "      <td>2</td>\n",
       "      <td>800</td>\n",
       "      <td>2</td>\n",
       "      <td>1</td>\n",
       "      <td>0</td>\n",
       "      <td>No</td>\n",
       "      <td>800</td>\n",
       "      <td>Furnished</td>\n",
       "      <td>Apartments</td>\n",
       "      <td>North-East</td>\n",
       "    </tr>\n",
       "    <tr>\n",
       "      <th>2</th>\n",
       "      <td>Landlinks Pearls 6D</td>\n",
       "      <td>₹ 52,00,000</td>\n",
       "      <td>India</td>\n",
       "      <td>Kalmandapam, Palakkad, Kerala</td>\n",
       "      <td>2</td>\n",
       "      <td>2</td>\n",
       "      <td>0</td>\n",
       "      <td>11</td>\n",
       "      <td>1</td>\n",
       "      <td>6</td>\n",
       "      <td>No</td>\n",
       "      <td>1304</td>\n",
       "      <td>Unfurnished</td>\n",
       "      <td>Apartments</td>\n",
       "      <td>Landlinks pearls</td>\n",
       "    </tr>\n",
       "    <tr>\n",
       "      <th>3</th>\n",
       "      <td>Spacious 2BHK, Ground floor, close to Palakkad...</td>\n",
       "      <td>₹ 10,500</td>\n",
       "      <td>India</td>\n",
       "      <td>Olavakod, Palakkad, Kerala</td>\n",
       "      <td>2</td>\n",
       "      <td>2</td>\n",
       "      <td>850</td>\n",
       "      <td>2</td>\n",
       "      <td>1</td>\n",
       "      <td>0</td>\n",
       "      <td>No</td>\n",
       "      <td>1100</td>\n",
       "      <td>Unfurnished</td>\n",
       "      <td>Houses &amp; Villas</td>\n",
       "      <td>not present</td>\n",
       "    </tr>\n",
       "    <tr>\n",
       "      <th>4</th>\n",
       "      <td>Nedumbasery near airport 4 bhk fully furnished...</td>\n",
       "      <td>₹ 25,000</td>\n",
       "      <td>India</td>\n",
       "      <td>Nedumbassery, Kochi, Kerala</td>\n",
       "      <td>4</td>\n",
       "      <td>4</td>\n",
       "      <td>2500</td>\n",
       "      <td>not present</td>\n",
       "      <td>not present</td>\n",
       "      <td>not present</td>\n",
       "      <td>Metro Land Realtors☎️ 7034048771,9074481458</td>\n",
       "      <td>2500</td>\n",
       "      <td>Furnished</td>\n",
       "      <td>Houses &amp; Villas</td>\n",
       "      <td>not present</td>\n",
       "    </tr>\n",
       "    <tr>\n",
       "      <th>...</th>\n",
       "      <td>...</td>\n",
       "      <td>...</td>\n",
       "      <td>...</td>\n",
       "      <td>...</td>\n",
       "      <td>...</td>\n",
       "      <td>...</td>\n",
       "      <td>...</td>\n",
       "      <td>...</td>\n",
       "      <td>...</td>\n",
       "      <td>...</td>\n",
       "      <td>...</td>\n",
       "      <td>...</td>\n",
       "      <td>...</td>\n",
       "      <td>...</td>\n",
       "      <td>...</td>\n",
       "    </tr>\n",
       "    <tr>\n",
       "      <th>5595</th>\n",
       "      <td>One Room available with AC ,king size bed</td>\n",
       "      <td>₹ 6,000</td>\n",
       "      <td>Uslapur, Bilaspur</td>\n",
       "      <td>Maulashri Vihar, Raipur, Chhattisgarh</td>\n",
       "      <td>1</td>\n",
       "      <td>2</td>\n",
       "      <td>600</td>\n",
       "      <td>1</td>\n",
       "      <td>not present</td>\n",
       "      <td>1</td>\n",
       "      <td>No</td>\n",
       "      <td>600</td>\n",
       "      <td>Unfurnished</td>\n",
       "      <td>Apartments</td>\n",
       "      <td>not present</td>\n",
       "    </tr>\n",
       "    <tr>\n",
       "      <th>5596</th>\n",
       "      <td>1rk for rent only for girls room for rent safe...</td>\n",
       "      <td>not present</td>\n",
       "      <td>not present</td>\n",
       "      <td>not present</td>\n",
       "      <td>not present</td>\n",
       "      <td>not present</td>\n",
       "      <td>not present</td>\n",
       "      <td>not present</td>\n",
       "      <td>not present</td>\n",
       "      <td>not present</td>\n",
       "      <td>not present</td>\n",
       "      <td>not present</td>\n",
       "      <td>not present</td>\n",
       "      <td>not present</td>\n",
       "      <td>not present</td>\n",
       "    </tr>\n",
       "    <tr>\n",
       "      <th>5597</th>\n",
       "      <td>Very big Villa at center of town/शहर के मध्य विला</td>\n",
       "      <td>₹ 4,000</td>\n",
       "      <td>Uslapur, Bilaspur</td>\n",
       "      <td>Mowa, Raipur, Chhattisgarh</td>\n",
       "      <td>1</td>\n",
       "      <td>1</td>\n",
       "      <td>200</td>\n",
       "      <td>2</td>\n",
       "      <td>North</td>\n",
       "      <td>1</td>\n",
       "      <td>Yes</td>\n",
       "      <td>400</td>\n",
       "      <td>Furnished</td>\n",
       "      <td>Houses &amp; Villas</td>\n",
       "      <td>Abhinav home</td>\n",
       "    </tr>\n",
       "    <tr>\n",
       "      <th>5598</th>\n",
       "      <td>1 BHK KAKKANAD ATHANI NEAR INFOPRK</td>\n",
       "      <td>₹ 3,700</td>\n",
       "      <td>Uslapur, Bilaspur</td>\n",
       "      <td>Santoshi Nagar, Raipur, Chhattisgarh</td>\n",
       "      <td>Semi-Furnished</td>\n",
       "      <td>1</td>\n",
       "      <td>Yes</td>\n",
       "      <td>2</td>\n",
       "      <td>not present</td>\n",
       "      <td>1a1</td>\n",
       "      <td>3</td>\n",
       "      <td>1000</td>\n",
       "      <td>Owner</td>\n",
       "      <td>Builder Floors</td>\n",
       "      <td>not present</td>\n",
       "    </tr>\n",
       "    <tr>\n",
       "      <th>5599</th>\n",
       "      <td>Furnished 2 BHK FLAT IN KOZHIKODE CITY</td>\n",
       "      <td>₹ 14,000</td>\n",
       "      <td>Uslapur, Bilaspur</td>\n",
       "      <td>Vrindavan Colony, Jagdalpur, Chhattisgarh</td>\n",
       "      <td>2</td>\n",
       "      <td>3</td>\n",
       "      <td>0</td>\n",
       "      <td>1</td>\n",
       "      <td>not present</td>\n",
       "      <td>not present</td>\n",
       "      <td>2</td>\n",
       "      <td>No</td>\n",
       "      <td>2000</td>\n",
       "      <td>Houses &amp; Villas</td>\n",
       "      <td>not present</td>\n",
       "    </tr>\n",
       "  </tbody>\n",
       "</table>\n",
       "<p>5600 rows × 15 columns</p>\n",
       "</div>"
      ],
      "text/plain": [
       "                                                   Name        Price  \\\n",
       "0                    1 BHK KAKKANAD ATHANI NEAR INFOPRK     ₹ 16,000   \n",
       "1                Furnished 2 BHK FLAT IN KOZHIKODE CITY     ₹ 12,000   \n",
       "2                                   Landlinks Pearls 6D  ₹ 52,00,000   \n",
       "3     Spacious 2BHK, Ground floor, close to Palakkad...     ₹ 10,500   \n",
       "4     Nedumbasery near airport 4 bhk fully furnished...     ₹ 25,000   \n",
       "...                                                 ...          ...   \n",
       "5595          One Room available with AC ,king size bed      ₹ 6,000   \n",
       "5596  1rk for rent only for girls room for rent safe...  not present   \n",
       "5597  Very big Villa at center of town/शहर के मध्य विला      ₹ 4,000   \n",
       "5598                 1 BHK KAKKANAD ATHANI NEAR INFOPRK      ₹ 3,700   \n",
       "5599             Furnished 2 BHK FLAT IN KOZHIKODE CITY     ₹ 14,000   \n",
       "\n",
       "                   City                                    Address  \\\n",
       "0                 India             Athani Kakkanad, Kochi, Kerala   \n",
       "1                 India                 Mankavu, Kozhikode, Kerala   \n",
       "2                 India              Kalmandapam, Palakkad, Kerala   \n",
       "3                 India                 Olavakod, Palakkad, Kerala   \n",
       "4                 India                Nedumbassery, Kochi, Kerala   \n",
       "...                 ...                                        ...   \n",
       "5595  Uslapur, Bilaspur      Maulashri Vihar, Raipur, Chhattisgarh   \n",
       "5596        not present                                not present   \n",
       "5597  Uslapur, Bilaspur                 Mowa, Raipur, Chhattisgarh   \n",
       "5598  Uslapur, Bilaspur       Santoshi Nagar, Raipur, Chhattisgarh   \n",
       "5599  Uslapur, Bilaspur  Vrindavan Colony, Jagdalpur, Chhattisgarh   \n",
       "\n",
       "            Bedrooms    Bathrooms  Carpet_Area Total_Floors  Car_Parking  \\\n",
       "0                  1            1          500            3            2   \n",
       "1                  1            2          800            2            1   \n",
       "2                  2            2            0           11            1   \n",
       "3                  2            2          850            2            1   \n",
       "4                  4            4         2500  not present  not present   \n",
       "...              ...          ...          ...          ...          ...   \n",
       "5595               1            2          600            1  not present   \n",
       "5596     not present  not present  not present  not present  not present   \n",
       "5597               1            1          200            2        North   \n",
       "5598  Semi-Furnished            1          Yes            2  not present   \n",
       "5599               2            3            0            1  not present   \n",
       "\n",
       "         Floor_No                            Bachelors_Allowed  \\\n",
       "0               1                                          Yes   \n",
       "1               0                                           No   \n",
       "2               6                                           No   \n",
       "3               0                                           No   \n",
       "4     not present  Metro Land Realtors☎️ 7034048771,9074481458   \n",
       "...           ...                                          ...   \n",
       "5595            1                                           No   \n",
       "5596  not present                                  not present   \n",
       "5597            1                                          Yes   \n",
       "5598          1a1                                            3   \n",
       "5599  not present                                            2   \n",
       "\n",
       "     Super_Builtup_Area   Furnishing             Type            Facing  \n",
       "0                   550    Furnished       Apartments             North  \n",
       "1                   800    Furnished       Apartments        North-East  \n",
       "2                  1304  Unfurnished       Apartments  Landlinks pearls  \n",
       "3                  1100  Unfurnished  Houses & Villas       not present  \n",
       "4                  2500    Furnished  Houses & Villas       not present  \n",
       "...                 ...          ...              ...               ...  \n",
       "5595                600  Unfurnished       Apartments       not present  \n",
       "5596        not present  not present      not present       not present  \n",
       "5597                400    Furnished  Houses & Villas      Abhinav home  \n",
       "5598               1000        Owner   Builder Floors       not present  \n",
       "5599                 No         2000  Houses & Villas       not present  \n",
       "\n",
       "[5600 rows x 15 columns]"
      ]
     },
     "execution_count": 97,
     "metadata": {},
     "output_type": "execute_result"
    }
   ],
   "source": [
    "df"
   ]
  },
  {
   "cell_type": "code",
   "execution_count": 101,
   "id": "2d1d4889",
   "metadata": {},
   "outputs": [],
   "source": [
    "df.to_csv('Capstone_Project.csv', index=False)"
   ]
  },
  {
   "cell_type": "code",
   "execution_count": 102,
   "id": "94aac822",
   "metadata": {},
   "outputs": [],
   "source": [
    "df.to_excel('Capstone_Project.csv.xlsx', index=False)"
   ]
  },
  {
   "cell_type": "code",
   "execution_count": 104,
   "id": "99748aff",
   "metadata": {},
   "outputs": [
    {
     "data": {
      "text/plain": [
       "['Capstone_Project.csv.pkl']"
      ]
     },
     "execution_count": 104,
     "metadata": {},
     "output_type": "execute_result"
    }
   ],
   "source": [
    "import joblib\n",
    "joblib.dump(df,\"Capstone_Project.csv.pkl\")"
   ]
  }
 ],
 "metadata": {
  "kernelspec": {
   "display_name": "Python 3 (ipykernel)",
   "language": "python",
   "name": "python3"
  },
  "language_info": {
   "codemirror_mode": {
    "name": "ipython",
    "version": 3
   },
   "file_extension": ".py",
   "mimetype": "text/x-python",
   "name": "python",
   "nbconvert_exporter": "python",
   "pygments_lexer": "ipython3",
   "version": "3.9.13"
  }
 },
 "nbformat": 4,
 "nbformat_minor": 5
}
